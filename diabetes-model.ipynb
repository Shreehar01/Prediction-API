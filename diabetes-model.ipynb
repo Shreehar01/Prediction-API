{
 "cells": [
  {
   "cell_type": "markdown",
   "metadata": {},
   "source": [
    "## Importing Libraries "
   ]
  },
  {
   "cell_type": "code",
   "execution_count": 1,
   "metadata": {},
   "outputs": [],
   "source": [
    "import warnings\n",
    "warnings.filterwarnings('ignore')\n",
    "import numpy as np\n",
    "import pandas as pd\n",
    "from sklearn.preprocessing import MinMaxScaler\n",
    "from sklearn.model_selection import train_test_split,cross_val_score\n",
    "from sklearn.linear_model import LogisticRegression\n",
    "from sklearn.metrics import  accuracy_score, f1_score, precision_score,confusion_matrix, recall_score, roc_auc_score\n",
    "from xgboost import XGBClassifier\n",
    "from sklearn.ensemble import RandomForestClassifier,AdaBoostClassifier\n",
    "from sklearn.svm import SVC\n",
    "import matplotlib.pyplot as plt\n",
    "%matplotlib inline\n",
    "import seaborn as sns"
   ]
  },
  {
   "cell_type": "markdown",
   "metadata": {},
   "source": [
    "## Importing Dataset"
   ]
  },
  {
   "cell_type": "code",
   "execution_count": 2,
   "metadata": {
    "_cell_guid": "b1076dfc-b9ad-4769-8c92-a6c4dae69d19",
    "_uuid": "8f2839f25d086af736a60e9eeb907d3b93b6e0e5"
   },
   "outputs": [
    {
     "data": {
      "text/html": [
       "<div>\n",
       "<style scoped>\n",
       "    .dataframe tbody tr th:only-of-type {\n",
       "        vertical-align: middle;\n",
       "    }\n",
       "\n",
       "    .dataframe tbody tr th {\n",
       "        vertical-align: top;\n",
       "    }\n",
       "\n",
       "    .dataframe thead th {\n",
       "        text-align: right;\n",
       "    }\n",
       "</style>\n",
       "<table border=\"1\" class=\"dataframe\">\n",
       "  <thead>\n",
       "    <tr style=\"text-align: right;\">\n",
       "      <th></th>\n",
       "      <th>Age</th>\n",
       "      <th>Gender</th>\n",
       "      <th>Polyuria</th>\n",
       "      <th>Polydipsia</th>\n",
       "      <th>sudden weight loss</th>\n",
       "      <th>weakness</th>\n",
       "      <th>Polyphagia</th>\n",
       "      <th>Genital thrush</th>\n",
       "      <th>visual blurring</th>\n",
       "      <th>Itching</th>\n",
       "      <th>Irritability</th>\n",
       "      <th>delayed healing</th>\n",
       "      <th>partial paresis</th>\n",
       "      <th>muscle stiffness</th>\n",
       "      <th>Alopecia</th>\n",
       "      <th>Obesity</th>\n",
       "      <th>class</th>\n",
       "    </tr>\n",
       "  </thead>\n",
       "  <tbody>\n",
       "    <tr>\n",
       "      <th>0</th>\n",
       "      <td>40</td>\n",
       "      <td>Male</td>\n",
       "      <td>No</td>\n",
       "      <td>Yes</td>\n",
       "      <td>No</td>\n",
       "      <td>Yes</td>\n",
       "      <td>No</td>\n",
       "      <td>No</td>\n",
       "      <td>No</td>\n",
       "      <td>Yes</td>\n",
       "      <td>No</td>\n",
       "      <td>Yes</td>\n",
       "      <td>No</td>\n",
       "      <td>Yes</td>\n",
       "      <td>Yes</td>\n",
       "      <td>Yes</td>\n",
       "      <td>Positive</td>\n",
       "    </tr>\n",
       "    <tr>\n",
       "      <th>1</th>\n",
       "      <td>58</td>\n",
       "      <td>Male</td>\n",
       "      <td>No</td>\n",
       "      <td>No</td>\n",
       "      <td>No</td>\n",
       "      <td>Yes</td>\n",
       "      <td>No</td>\n",
       "      <td>No</td>\n",
       "      <td>Yes</td>\n",
       "      <td>No</td>\n",
       "      <td>No</td>\n",
       "      <td>No</td>\n",
       "      <td>Yes</td>\n",
       "      <td>No</td>\n",
       "      <td>Yes</td>\n",
       "      <td>No</td>\n",
       "      <td>Positive</td>\n",
       "    </tr>\n",
       "    <tr>\n",
       "      <th>2</th>\n",
       "      <td>41</td>\n",
       "      <td>Male</td>\n",
       "      <td>Yes</td>\n",
       "      <td>No</td>\n",
       "      <td>No</td>\n",
       "      <td>Yes</td>\n",
       "      <td>Yes</td>\n",
       "      <td>No</td>\n",
       "      <td>No</td>\n",
       "      <td>Yes</td>\n",
       "      <td>No</td>\n",
       "      <td>Yes</td>\n",
       "      <td>No</td>\n",
       "      <td>Yes</td>\n",
       "      <td>Yes</td>\n",
       "      <td>No</td>\n",
       "      <td>Positive</td>\n",
       "    </tr>\n",
       "    <tr>\n",
       "      <th>3</th>\n",
       "      <td>45</td>\n",
       "      <td>Male</td>\n",
       "      <td>No</td>\n",
       "      <td>No</td>\n",
       "      <td>Yes</td>\n",
       "      <td>Yes</td>\n",
       "      <td>Yes</td>\n",
       "      <td>Yes</td>\n",
       "      <td>No</td>\n",
       "      <td>Yes</td>\n",
       "      <td>No</td>\n",
       "      <td>Yes</td>\n",
       "      <td>No</td>\n",
       "      <td>No</td>\n",
       "      <td>No</td>\n",
       "      <td>No</td>\n",
       "      <td>Positive</td>\n",
       "    </tr>\n",
       "    <tr>\n",
       "      <th>4</th>\n",
       "      <td>60</td>\n",
       "      <td>Male</td>\n",
       "      <td>Yes</td>\n",
       "      <td>Yes</td>\n",
       "      <td>Yes</td>\n",
       "      <td>Yes</td>\n",
       "      <td>Yes</td>\n",
       "      <td>No</td>\n",
       "      <td>Yes</td>\n",
       "      <td>Yes</td>\n",
       "      <td>Yes</td>\n",
       "      <td>Yes</td>\n",
       "      <td>Yes</td>\n",
       "      <td>Yes</td>\n",
       "      <td>Yes</td>\n",
       "      <td>Yes</td>\n",
       "      <td>Positive</td>\n",
       "    </tr>\n",
       "  </tbody>\n",
       "</table>\n",
       "</div>"
      ],
      "text/plain": [
       "   Age Gender Polyuria Polydipsia sudden weight loss weakness Polyphagia  \\\n",
       "0   40   Male       No        Yes                 No      Yes         No   \n",
       "1   58   Male       No         No                 No      Yes         No   \n",
       "2   41   Male      Yes         No                 No      Yes        Yes   \n",
       "3   45   Male       No         No                Yes      Yes        Yes   \n",
       "4   60   Male      Yes        Yes                Yes      Yes        Yes   \n",
       "\n",
       "  Genital thrush visual blurring Itching Irritability delayed healing  \\\n",
       "0             No              No     Yes           No             Yes   \n",
       "1             No             Yes      No           No              No   \n",
       "2             No              No     Yes           No             Yes   \n",
       "3            Yes              No     Yes           No             Yes   \n",
       "4             No             Yes     Yes          Yes             Yes   \n",
       "\n",
       "  partial paresis muscle stiffness Alopecia Obesity     class  \n",
       "0              No              Yes      Yes     Yes  Positive  \n",
       "1             Yes               No      Yes      No  Positive  \n",
       "2              No              Yes      Yes      No  Positive  \n",
       "3              No               No       No      No  Positive  \n",
       "4             Yes              Yes      Yes     Yes  Positive  "
      ]
     },
     "execution_count": 2,
     "metadata": {},
     "output_type": "execute_result"
    }
   ],
   "source": [
    "df = pd.read_csv('diabetes-data.csv')\n",
    "df.head()"
   ]
  },
  {
   "cell_type": "markdown",
   "metadata": {},
   "source": [
    "## Checking Missing Values"
   ]
  },
  {
   "cell_type": "code",
   "execution_count": 3,
   "metadata": {},
   "outputs": [
    {
     "data": {
      "text/plain": [
       "Age                   0\n",
       "Gender                0\n",
       "Polyuria              0\n",
       "Polydipsia            0\n",
       "sudden weight loss    0\n",
       "weakness              0\n",
       "Polyphagia            0\n",
       "Genital thrush        0\n",
       "visual blurring       0\n",
       "Itching               0\n",
       "Irritability          0\n",
       "delayed healing       0\n",
       "partial paresis       0\n",
       "muscle stiffness      0\n",
       "Alopecia              0\n",
       "Obesity               0\n",
       "class                 0\n",
       "dtype: int64"
      ]
     },
     "execution_count": 3,
     "metadata": {},
     "output_type": "execute_result"
    }
   ],
   "source": [
    "df.isna().sum()"
   ]
  },
  {
   "cell_type": "code",
   "execution_count": 4,
   "metadata": {},
   "outputs": [
    {
     "name": "stdout",
     "output_type": "stream",
     "text": [
      "<class 'pandas.core.frame.DataFrame'>\n",
      "RangeIndex: 520 entries, 0 to 519\n",
      "Data columns (total 17 columns):\n",
      " #   Column              Non-Null Count  Dtype \n",
      "---  ------              --------------  ----- \n",
      " 0   Age                 520 non-null    int64 \n",
      " 1   Gender              520 non-null    object\n",
      " 2   Polyuria            520 non-null    object\n",
      " 3   Polydipsia          520 non-null    object\n",
      " 4   sudden weight loss  520 non-null    object\n",
      " 5   weakness            520 non-null    object\n",
      " 6   Polyphagia          520 non-null    object\n",
      " 7   Genital thrush      520 non-null    object\n",
      " 8   visual blurring     520 non-null    object\n",
      " 9   Itching             520 non-null    object\n",
      " 10  Irritability        520 non-null    object\n",
      " 11  delayed healing     520 non-null    object\n",
      " 12  partial paresis     520 non-null    object\n",
      " 13  muscle stiffness    520 non-null    object\n",
      " 14  Alopecia            520 non-null    object\n",
      " 15  Obesity             520 non-null    object\n",
      " 16  class               520 non-null    object\n",
      "dtypes: int64(1), object(16)\n",
      "memory usage: 69.2+ KB\n"
     ]
    }
   ],
   "source": [
    "df.info()"
   ]
  },
  {
   "cell_type": "markdown",
   "metadata": {},
   "source": [
    "## Distribution of Different Features"
   ]
  },
  {
   "cell_type": "code",
   "execution_count": 5,
   "metadata": {},
   "outputs": [
    {
     "data": {
      "image/png": "[encoded data removed]",
      "text/plain": [
       "<Figure size 432x288 with 1 Axes>"
      ]
     },
     "metadata": {
      "needs_background": "light"
     },
     "output_type": "display_data"
    },
    {
     "data": {
      "image/png": "[encoded data removed]",
      "text/plain": [
       "<Figure size 1008x504 with 2 Axes>"
      ]
     },
     "metadata": {
      "needs_background": "light"
     },
     "output_type": "display_data"
    }
   ],
   "source": [
    "#Distribution of Target Variable\n",
    "sns.countplot(df['class'],data=df)\n",
    "\n",
    "# plotting to create pie chart and bar plot as subplots\n",
    "plt.figure(figsize=(14,7))\n",
    "plt.subplot(121)\n",
    "df[\"class\"].value_counts().plot.pie(autopct = \"%1.0f%%\",colors = sns.color_palette(\"prism\",7),startangle = 60,labels=[\"Positive\",\"Negative\"],\n",
    "wedgeprops={\"linewidth\":2,\"edgecolor\":\"k\"},explode=[.1,0],shadow =True)\n",
    "plt.title(\"Distribution of Target  Variable\")\n",
    "\n",
    "plt.subplot(122)\n",
    "ax = df[\"class\"].value_counts().plot(kind=\"barh\")\n",
    "\n",
    "for i,j in enumerate(df[\"class\"].value_counts().values):\n",
    "    ax.text(.7,i,j,weight = \"bold\",fontsize=20)\n",
    "\n",
    "plt.title(\"Count of Target Variable\")\n",
    "plt.show()"
   ]
  },
  {
   "cell_type": "code",
   "execution_count": 6,
   "metadata": {},
   "outputs": [
    {
     "data": {
      "text/html": [
       "<style  type=\"text/css\" >\n",
       "#T_9bfa9_row0_col0,#T_9bfa9_row1_col1{\n",
       "            background-color:  #ffe5e5;\n",
       "            color:  #000000;\n",
       "        }#T_9bfa9_row0_col1,#T_9bfa9_row1_col0{\n",
       "            background-color:  #ff0000;\n",
       "            color:  #f1f1f1;\n",
       "        }</style><table id=\"T_9bfa9_\" ><thead>    <tr>        <th class=\"index_name level0\" >class</th>        <th class=\"col_heading level0 col0\" >Negative</th>        <th class=\"col_heading level0 col1\" >Positive</th>    </tr>    <tr>        <th class=\"index_name level0\" >Gender</th>        <th class=\"blank\" ></th>        <th class=\"blank\" ></th>    </tr></thead><tbody>\n",
       "                <tr>\n",
       "                        <th id=\"T_9bfa9_level0_row0\" class=\"row_heading level0 row0\" >Female</th>\n",
       "                        <td id=\"T_9bfa9_row0_col0\" class=\"data row0 col0\" >9.500000</td>\n",
       "                        <td id=\"T_9bfa9_row0_col1\" class=\"data row0 col1\" >54.060000</td>\n",
       "            </tr>\n",
       "            <tr>\n",
       "                        <th id=\"T_9bfa9_level0_row1\" class=\"row_heading level0 row1\" >Male</th>\n",
       "                        <td id=\"T_9bfa9_row1_col0\" class=\"data row1 col0\" >90.500000</td>\n",
       "                        <td id=\"T_9bfa9_row1_col1\" class=\"data row1 col1\" >45.940000</td>\n",
       "            </tr>\n",
       "    </tbody></table>"
      ],
      "text/plain": [
       "<pandas.io.formats.style.Styler at 0x13ddb79e3a0>"
      ]
     },
     "execution_count": 6,
     "metadata": {},
     "output_type": "execute_result"
    },
    {
     "data": {
      "image/png": "[encoded data removed]",
      "text/plain": [
       "<Figure size 432x288 with 1 Axes>"
      ]
     },
     "metadata": {
      "needs_background": "light"
     },
     "output_type": "display_data"
    }
   ],
   "source": [
    "# Distribution of Gender\n",
    "sns.countplot(df['Gender'],hue=df['class'], data=df)\n",
    "\n",
    "plot_criteria= ['Gender', 'class']\n",
    "cm = sns.light_palette(\"red\", as_cmap=True)\n",
    "(round(pd.crosstab(df[plot_criteria[0]], df[plot_criteria[1]], normalize='columns') * 100,2)).style.background_gradient(cmap = cm)"
   ]
  },
  {
   "cell_type": "code",
   "execution_count": 7,
   "metadata": {},
   "outputs": [
    {
     "data": {
      "text/html": [
       "<style  type=\"text/css\" >\n",
       "#T_3f6a9_row0_col0,#T_3f6a9_row1_col1{\n",
       "            background-color:  #ff0000;\n",
       "            color:  #f1f1f1;\n",
       "        }#T_3f6a9_row0_col1,#T_3f6a9_row1_col0{\n",
       "            background-color:  #ffe5e5;\n",
       "            color:  #000000;\n",
       "        }</style><table id=\"T_3f6a9_\" ><thead>    <tr>        <th class=\"index_name level0\" >class</th>        <th class=\"col_heading level0 col0\" >Negative</th>        <th class=\"col_heading level0 col1\" >Positive</th>    </tr>    <tr>        <th class=\"index_name level0\" >Polyuria</th>        <th class=\"blank\" ></th>        <th class=\"blank\" ></th>    </tr></thead><tbody>\n",
       "                <tr>\n",
       "                        <th id=\"T_3f6a9_level0_row0\" class=\"row_heading level0 row0\" >No</th>\n",
       "                        <td id=\"T_3f6a9_row0_col0\" class=\"data row0 col0\" >92.500000</td>\n",
       "                        <td id=\"T_3f6a9_row0_col1\" class=\"data row0 col1\" >24.060000</td>\n",
       "            </tr>\n",
       "            <tr>\n",
       "                        <th id=\"T_3f6a9_level0_row1\" class=\"row_heading level0 row1\" >Yes</th>\n",
       "                        <td id=\"T_3f6a9_row1_col0\" class=\"data row1 col0\" >7.500000</td>\n",
       "                        <td id=\"T_3f6a9_row1_col1\" class=\"data row1 col1\" >75.940000</td>\n",
       "            </tr>\n",
       "    </tbody></table>"
      ],
      "text/plain": [
       "<pandas.io.formats.style.Styler at 0x13ddb7e2040>"
      ]
     },
     "execution_count": 7,
     "metadata": {},
     "output_type": "execute_result"
    },
    {
     "data": {
      "image/png": "[encoded data removed]",
      "text/plain": [
       "<Figure size 432x288 with 1 Axes>"
      ]
     },
     "metadata": {
      "needs_background": "light"
     },
     "output_type": "display_data"
    }
   ],
   "source": [
    "# Distribution of Polyuria\n",
    "sns.countplot(df['Polyuria'],hue=df['class'], data=df)\n",
    "\n",
    "\n",
    "plot_criteria= ['Polyuria', 'class']\n",
    "cm = sns.light_palette(\"red\", as_cmap=True)\n",
    "(round(pd.crosstab(df[plot_criteria[0]], df[plot_criteria[1]], normalize='columns') * 100,2)).style.background_gradient(cmap = cm)"
   ]
  },
  {
   "cell_type": "code",
   "execution_count": 8,
   "metadata": {},
   "outputs": [
    {
     "data": {
      "text/html": [
       "<style  type=\"text/css\" >\n",
       "#T_538af_row0_col0,#T_538af_row1_col1{\n",
       "            background-color:  #ff0000;\n",
       "            color:  #f1f1f1;\n",
       "        }#T_538af_row0_col1,#T_538af_row1_col0{\n",
       "            background-color:  #ffe5e5;\n",
       "            color:  #000000;\n",
       "        }</style><table id=\"T_538af_\" ><thead>    <tr>        <th class=\"index_name level0\" >class</th>        <th class=\"col_heading level0 col0\" >Negative</th>        <th class=\"col_heading level0 col1\" >Positive</th>    </tr>    <tr>        <th class=\"index_name level0\" >Polydipsia</th>        <th class=\"blank\" ></th>        <th class=\"blank\" ></th>    </tr></thead><tbody>\n",
       "                <tr>\n",
       "                        <th id=\"T_538af_level0_row0\" class=\"row_heading level0 row0\" >No</th>\n",
       "                        <td id=\"T_538af_row0_col0\" class=\"data row0 col0\" >96.000000</td>\n",
       "                        <td id=\"T_538af_row0_col1\" class=\"data row0 col1\" >29.690000</td>\n",
       "            </tr>\n",
       "            <tr>\n",
       "                        <th id=\"T_538af_level0_row1\" class=\"row_heading level0 row1\" >Yes</th>\n",
       "                        <td id=\"T_538af_row1_col0\" class=\"data row1 col0\" >4.000000</td>\n",
       "                        <td id=\"T_538af_row1_col1\" class=\"data row1 col1\" >70.310000</td>\n",
       "            </tr>\n",
       "    </tbody></table>"
      ],
      "text/plain": [
       "<pandas.io.formats.style.Styler at 0x13df5b2a850>"
      ]
     },
     "execution_count": 8,
     "metadata": {},
     "output_type": "execute_result"
    },
    {
     "data": {
      "image/png": "[encoded data removed]",
      "text/plain": [
       "<Figure size 432x288 with 1 Axes>"
      ]
     },
     "metadata": {
      "needs_background": "light"
     },
     "output_type": "display_data"
    }
   ],
   "source": [
    "# Distribution of Polydipsia\n",
    "sns.countplot(df['Polydipsia'],hue=df['class'], data=df)\n",
    "\n",
    "\n",
    "plot_criteria= ['Polydipsia', 'class']\n",
    "cm = sns.light_palette(\"red\", as_cmap=True)\n",
    "(round(pd.crosstab(df[plot_criteria[0]], df[plot_criteria[1]], normalize='columns') * 100,2)).style.background_gradient(cmap = cm)"
   ]
  },
  {
   "cell_type": "code",
   "execution_count": 9,
   "metadata": {},
   "outputs": [
    {
     "data": {
      "text/html": [
       "<style  type=\"text/css\" >\n",
       "#T_49df8_row0_col0,#T_49df8_row1_col1{\n",
       "            background-color:  #ff0000;\n",
       "            color:  #f1f1f1;\n",
       "        }#T_49df8_row0_col1,#T_49df8_row1_col0{\n",
       "            background-color:  #ffe5e5;\n",
       "            color:  #000000;\n",
       "        }</style><table id=\"T_49df8_\" ><thead>    <tr>        <th class=\"index_name level0\" >class</th>        <th class=\"col_heading level0 col0\" >Negative</th>        <th class=\"col_heading level0 col1\" >Positive</th>    </tr>    <tr>        <th class=\"index_name level0\" >sudden weight loss</th>        <th class=\"blank\" ></th>        <th class=\"blank\" ></th>    </tr></thead><tbody>\n",
       "                <tr>\n",
       "                        <th id=\"T_49df8_level0_row0\" class=\"row_heading level0 row0\" >No</th>\n",
       "                        <td id=\"T_49df8_row0_col0\" class=\"data row0 col0\" >85.500000</td>\n",
       "                        <td id=\"T_49df8_row0_col1\" class=\"data row0 col1\" >41.250000</td>\n",
       "            </tr>\n",
       "            <tr>\n",
       "                        <th id=\"T_49df8_level0_row1\" class=\"row_heading level0 row1\" >Yes</th>\n",
       "                        <td id=\"T_49df8_row1_col0\" class=\"data row1 col0\" >14.500000</td>\n",
       "                        <td id=\"T_49df8_row1_col1\" class=\"data row1 col1\" >58.750000</td>\n",
       "            </tr>\n",
       "    </tbody></table>"
      ],
      "text/plain": [
       "<pandas.io.formats.style.Styler at 0x13df5b3eb50>"
      ]
     },
     "execution_count": 9,
     "metadata": {},
     "output_type": "execute_result"
    },
    {
     "data": {
      "image/png": "[encoded data removed]",
      "text/plain": [
       "<Figure size 432x288 with 1 Axes>"
      ]
     },
     "metadata": {
      "needs_background": "light"
     },
     "output_type": "display_data"
    }
   ],
   "source": [
    "# Distribution of sudden weight loss\n",
    "sns.countplot(df['sudden weight loss'],hue=df['class'], data=df)\n",
    "\n",
    "\n",
    "plot_criteria= ['sudden weight loss', 'class']\n",
    "cm = sns.light_palette(\"red\", as_cmap=True)\n",
    "(round(pd.crosstab(df[plot_criteria[0]], df[plot_criteria[1]], normalize='columns') * 100,2)).style.background_gradient(cmap = cm)"
   ]
  },
  {
   "cell_type": "code",
   "execution_count": 10,
   "metadata": {},
   "outputs": [
    {
     "data": {
      "text/html": [
       "<style  type=\"text/css\" >\n",
       "#T_73baf_row0_col0,#T_73baf_row1_col1{\n",
       "            background-color:  #ff0000;\n",
       "            color:  #f1f1f1;\n",
       "        }#T_73baf_row0_col1,#T_73baf_row1_col0{\n",
       "            background-color:  #ffe5e5;\n",
       "            color:  #000000;\n",
       "        }</style><table id=\"T_73baf_\" ><thead>    <tr>        <th class=\"index_name level0\" >class</th>        <th class=\"col_heading level0 col0\" >Negative</th>        <th class=\"col_heading level0 col1\" >Positive</th>    </tr>    <tr>        <th class=\"index_name level0\" >weakness</th>        <th class=\"blank\" ></th>        <th class=\"blank\" ></th>    </tr></thead><tbody>\n",
       "                <tr>\n",
       "                        <th id=\"T_73baf_level0_row0\" class=\"row_heading level0 row0\" >No</th>\n",
       "                        <td id=\"T_73baf_row0_col0\" class=\"data row0 col0\" >56.500000</td>\n",
       "                        <td id=\"T_73baf_row0_col1\" class=\"data row0 col1\" >31.870000</td>\n",
       "            </tr>\n",
       "            <tr>\n",
       "                        <th id=\"T_73baf_level0_row1\" class=\"row_heading level0 row1\" >Yes</th>\n",
       "                        <td id=\"T_73baf_row1_col0\" class=\"data row1 col0\" >43.500000</td>\n",
       "                        <td id=\"T_73baf_row1_col1\" class=\"data row1 col1\" >68.120000</td>\n",
       "            </tr>\n",
       "    </tbody></table>"
      ],
      "text/plain": [
       "<pandas.io.formats.style.Styler at 0x13ddbabad90>"
      ]
     },
     "execution_count": 10,
     "metadata": {},
     "output_type": "execute_result"
    },
    {
     "data": {
      "image/png": "[encoded data removed]",
      "text/plain": [
       "<Figure size 432x288 with 1 Axes>"
      ]
     },
     "metadata": {
      "needs_background": "light"
     },
     "output_type": "display_data"
    }
   ],
   "source": [
    "# Distribution of weakness\n",
    "sns.countplot(df['weakness'],hue=df['class'], data=df)\n",
    "\n",
    "\n",
    "plot_criteria= ['weakness', 'class']\n",
    "cm = sns.light_palette(\"red\", as_cmap=True)\n",
    "(round(pd.crosstab(df[plot_criteria[0]], df[plot_criteria[1]], normalize='columns') * 100,2)).style.background_gradient(cmap = cm)"
   ]
  },
  {
   "cell_type": "code",
   "execution_count": 11,
   "metadata": {},
   "outputs": [
    {
     "data": {
      "text/html": [
       "<style  type=\"text/css\" >\n",
       "#T_08180_row0_col0,#T_08180_row1_col1{\n",
       "            background-color:  #ff0000;\n",
       "            color:  #f1f1f1;\n",
       "        }#T_08180_row0_col1,#T_08180_row1_col0{\n",
       "            background-color:  #ffe5e5;\n",
       "            color:  #000000;\n",
       "        }</style><table id=\"T_08180_\" ><thead>    <tr>        <th class=\"index_name level0\" >class</th>        <th class=\"col_heading level0 col0\" >Negative</th>        <th class=\"col_heading level0 col1\" >Positive</th>    </tr>    <tr>        <th class=\"index_name level0\" >Polyphagia</th>        <th class=\"blank\" ></th>        <th class=\"blank\" ></th>    </tr></thead><tbody>\n",
       "                <tr>\n",
       "                        <th id=\"T_08180_level0_row0\" class=\"row_heading level0 row0\" >No</th>\n",
       "                        <td id=\"T_08180_row0_col0\" class=\"data row0 col0\" >76.000000</td>\n",
       "                        <td id=\"T_08180_row0_col1\" class=\"data row0 col1\" >40.940000</td>\n",
       "            </tr>\n",
       "            <tr>\n",
       "                        <th id=\"T_08180_level0_row1\" class=\"row_heading level0 row1\" >Yes</th>\n",
       "                        <td id=\"T_08180_row1_col0\" class=\"data row1 col0\" >24.000000</td>\n",
       "                        <td id=\"T_08180_row1_col1\" class=\"data row1 col1\" >59.060000</td>\n",
       "            </tr>\n",
       "    </tbody></table>"
      ],
      "text/plain": [
       "<pandas.io.formats.style.Styler at 0x13ddbf2f670>"
      ]
     },
     "execution_count": 11,
     "metadata": {},
     "output_type": "execute_result"
    },
    {
     "data": {
      "image/png": "[encoded data removed]",
      "text/plain": [
       "<Figure size 432x288 with 1 Axes>"
      ]
     },
     "metadata": {
      "needs_background": "light"
     },
     "output_type": "display_data"
    }
   ],
   "source": [
    "# Distribution of Polyphagia\n",
    "sns.countplot(df['Polyphagia'],hue=df['class'], data=df)\n",
    "\n",
    "\n",
    "plot_criteria= ['Polyphagia', 'class']\n",
    "cm = sns.light_palette(\"red\", as_cmap=True)\n",
    "(round(pd.crosstab(df[plot_criteria[0]], df[plot_criteria[1]], normalize='columns') * 100,2)).style.background_gradient(cmap = cm)"
   ]
  },
  {
   "cell_type": "code",
   "execution_count": 12,
   "metadata": {},
   "outputs": [
    {
     "data": {
      "text/html": [
       "<style  type=\"text/css\" >\n",
       "#T_afdc9_row0_col0,#T_afdc9_row0_col1{\n",
       "            background-color:  #ff0000;\n",
       "            color:  #f1f1f1;\n",
       "        }#T_afdc9_row1_col0,#T_afdc9_row1_col1{\n",
       "            background-color:  #ffe5e5;\n",
       "            color:  #000000;\n",
       "        }</style><table id=\"T_afdc9_\" ><thead>    <tr>        <th class=\"index_name level0\" >class</th>        <th class=\"col_heading level0 col0\" >Negative</th>        <th class=\"col_heading level0 col1\" >Positive</th>    </tr>    <tr>        <th class=\"index_name level0\" >Genital thrush</th>        <th class=\"blank\" ></th>        <th class=\"blank\" ></th>    </tr></thead><tbody>\n",
       "                <tr>\n",
       "                        <th id=\"T_afdc9_level0_row0\" class=\"row_heading level0 row0\" >No</th>\n",
       "                        <td id=\"T_afdc9_row0_col0\" class=\"data row0 col0\" >83.500000</td>\n",
       "                        <td id=\"T_afdc9_row0_col1\" class=\"data row0 col1\" >74.060000</td>\n",
       "            </tr>\n",
       "            <tr>\n",
       "                        <th id=\"T_afdc9_level0_row1\" class=\"row_heading level0 row1\" >Yes</th>\n",
       "                        <td id=\"T_afdc9_row1_col0\" class=\"data row1 col0\" >16.500000</td>\n",
       "                        <td id=\"T_afdc9_row1_col1\" class=\"data row1 col1\" >25.940000</td>\n",
       "            </tr>\n",
       "    </tbody></table>"
      ],
      "text/plain": [
       "<pandas.io.formats.style.Styler at 0x13ddbb95ee0>"
      ]
     },
     "execution_count": 12,
     "metadata": {},
     "output_type": "execute_result"
    },
    {
     "data": {
      "image/png": "[encoded data removed]",
      "text/plain": [
       "<Figure size 432x288 with 1 Axes>"
      ]
     },
     "metadata": {
      "needs_background": "light"
     },
     "output_type": "display_data"
    }
   ],
   "source": [
    "# Distribution of Genital thrush\n",
    "sns.countplot(df['Genital thrush'],hue=df['class'], data=df)\n",
    "\n",
    "\n",
    "plot_criteria= ['Genital thrush', 'class']\n",
    "cm = sns.light_palette(\"red\", as_cmap=True)\n",
    "(round(pd.crosstab(df[plot_criteria[0]], df[plot_criteria[1]], normalize='columns') * 100,2)).style.background_gradient(cmap = cm)"
   ]
  },
  {
   "cell_type": "code",
   "execution_count": 13,
   "metadata": {},
   "outputs": [
    {
     "data": {
      "text/html": [
       "<style  type=\"text/css\" >\n",
       "#T_db946_row0_col0,#T_db946_row1_col1{\n",
       "            background-color:  #ff0000;\n",
       "            color:  #f1f1f1;\n",
       "        }#T_db946_row0_col1,#T_db946_row1_col0{\n",
       "            background-color:  #ffe5e5;\n",
       "            color:  #000000;\n",
       "        }</style><table id=\"T_db946_\" ><thead>    <tr>        <th class=\"index_name level0\" >class</th>        <th class=\"col_heading level0 col0\" >Negative</th>        <th class=\"col_heading level0 col1\" >Positive</th>    </tr>    <tr>        <th class=\"index_name level0\" >visual blurring</th>        <th class=\"blank\" ></th>        <th class=\"blank\" ></th>    </tr></thead><tbody>\n",
       "                <tr>\n",
       "                        <th id=\"T_db946_level0_row0\" class=\"row_heading level0 row0\" >No</th>\n",
       "                        <td id=\"T_db946_row0_col0\" class=\"data row0 col0\" >71.000000</td>\n",
       "                        <td id=\"T_db946_row0_col1\" class=\"data row0 col1\" >45.310000</td>\n",
       "            </tr>\n",
       "            <tr>\n",
       "                        <th id=\"T_db946_level0_row1\" class=\"row_heading level0 row1\" >Yes</th>\n",
       "                        <td id=\"T_db946_row1_col0\" class=\"data row1 col0\" >29.000000</td>\n",
       "                        <td id=\"T_db946_row1_col1\" class=\"data row1 col1\" >54.690000</td>\n",
       "            </tr>\n",
       "    </tbody></table>"
      ],
      "text/plain": [
       "<pandas.io.formats.style.Styler at 0x13ddbb95c40>"
      ]
     },
     "execution_count": 13,
     "metadata": {},
     "output_type": "execute_result"
    },
    {
     "data": {
      "image/png": "[encoded data removed]",
      "text/plain": [
       "<Figure size 432x288 with 1 Axes>"
      ]
     },
     "metadata": {
      "needs_background": "light"
     },
     "output_type": "display_data"
    }
   ],
   "source": [
    "# Distribution of visual blurring\n",
    "sns.countplot(df['visual blurring'],hue=df['class'], data=df)\n",
    "\n",
    "\n",
    "plot_criteria= ['visual blurring', 'class']\n",
    "cm = sns.light_palette(\"red\", as_cmap=True)\n",
    "(round(pd.crosstab(df[plot_criteria[0]], df[plot_criteria[1]], normalize='columns') * 100,2)).style.background_gradient(cmap = cm)"
   ]
  },
  {
   "cell_type": "code",
   "execution_count": 14,
   "metadata": {},
   "outputs": [
    {
     "data": {
      "text/html": [
       "<style  type=\"text/css\" >\n",
       "#T_85cfb_row0_col0,#T_85cfb_row0_col1{\n",
       "            background-color:  #ff0000;\n",
       "            color:  #f1f1f1;\n",
       "        }#T_85cfb_row1_col0,#T_85cfb_row1_col1{\n",
       "            background-color:  #ffe5e5;\n",
       "            color:  #000000;\n",
       "        }</style><table id=\"T_85cfb_\" ><thead>    <tr>        <th class=\"index_name level0\" >class</th>        <th class=\"col_heading level0 col0\" >Negative</th>        <th class=\"col_heading level0 col1\" >Positive</th>    </tr>    <tr>        <th class=\"index_name level0\" >Itching</th>        <th class=\"blank\" ></th>        <th class=\"blank\" ></th>    </tr></thead><tbody>\n",
       "                <tr>\n",
       "                        <th id=\"T_85cfb_level0_row0\" class=\"row_heading level0 row0\" >No</th>\n",
       "                        <td id=\"T_85cfb_row0_col0\" class=\"data row0 col0\" >50.500000</td>\n",
       "                        <td id=\"T_85cfb_row0_col1\" class=\"data row0 col1\" >51.880000</td>\n",
       "            </tr>\n",
       "            <tr>\n",
       "                        <th id=\"T_85cfb_level0_row1\" class=\"row_heading level0 row1\" >Yes</th>\n",
       "                        <td id=\"T_85cfb_row1_col0\" class=\"data row1 col0\" >49.500000</td>\n",
       "                        <td id=\"T_85cfb_row1_col1\" class=\"data row1 col1\" >48.120000</td>\n",
       "            </tr>\n",
       "    </tbody></table>"
      ],
      "text/plain": [
       "<pandas.io.formats.style.Styler at 0x13ddbf7faf0>"
      ]
     },
     "execution_count": 14,
     "metadata": {},
     "output_type": "execute_result"
    },
    {
     "data": {
      "image/png": "[encoded data removed]",
      "text/plain": [
       "<Figure size 432x288 with 1 Axes>"
      ]
     },
     "metadata": {
      "needs_background": "light"
     },
     "output_type": "display_data"
    }
   ],
   "source": [
    "# Distribution of Itching\n",
    "sns.countplot(df['Itching'],hue=df['class'], data=df)\n",
    "\n",
    "\n",
    "plot_criteria= ['Itching', 'class']\n",
    "cm = sns.light_palette(\"red\", as_cmap=True)\n",
    "(round(pd.crosstab(df[plot_criteria[0]], df[plot_criteria[1]], normalize='columns') * 100,2)).style.background_gradient(cmap = cm)"
   ]
  },
  {
   "cell_type": "code",
   "execution_count": 15,
   "metadata": {},
   "outputs": [
    {
     "data": {
      "text/html": [
       "<style  type=\"text/css\" >\n",
       "#T_25dcc_row0_col0,#T_25dcc_row0_col1{\n",
       "            background-color:  #ff0000;\n",
       "            color:  #f1f1f1;\n",
       "        }#T_25dcc_row1_col0,#T_25dcc_row1_col1{\n",
       "            background-color:  #ffe5e5;\n",
       "            color:  #000000;\n",
       "        }</style><table id=\"T_25dcc_\" ><thead>    <tr>        <th class=\"index_name level0\" >class</th>        <th class=\"col_heading level0 col0\" >Negative</th>        <th class=\"col_heading level0 col1\" >Positive</th>    </tr>    <tr>        <th class=\"index_name level0\" >Irritability</th>        <th class=\"blank\" ></th>        <th class=\"blank\" ></th>    </tr></thead><tbody>\n",
       "                <tr>\n",
       "                        <th id=\"T_25dcc_level0_row0\" class=\"row_heading level0 row0\" >No</th>\n",
       "                        <td id=\"T_25dcc_row0_col0\" class=\"data row0 col0\" >92.000000</td>\n",
       "                        <td id=\"T_25dcc_row0_col1\" class=\"data row0 col1\" >65.620000</td>\n",
       "            </tr>\n",
       "            <tr>\n",
       "                        <th id=\"T_25dcc_level0_row1\" class=\"row_heading level0 row1\" >Yes</th>\n",
       "                        <td id=\"T_25dcc_row1_col0\" class=\"data row1 col0\" >8.000000</td>\n",
       "                        <td id=\"T_25dcc_row1_col1\" class=\"data row1 col1\" >34.380000</td>\n",
       "            </tr>\n",
       "    </tbody></table>"
      ],
      "text/plain": [
       "<pandas.io.formats.style.Styler at 0x13ddbb5ca60>"
      ]
     },
     "execution_count": 15,
     "metadata": {},
     "output_type": "execute_result"
    },
    {
     "data": {
      "image/png": "[encoded data removed]",
      "text/plain": [
       "<Figure size 432x288 with 1 Axes>"
      ]
     },
     "metadata": {
      "needs_background": "light"
     },
     "output_type": "display_data"
    }
   ],
   "source": [
    "# Distribution of Irritability\n",
    "sns.countplot(df['Irritability'],hue=df['class'], data=df)\n",
    "\n",
    "\n",
    "plot_criteria= ['Irritability', 'class']\n",
    "cm = sns.light_palette(\"red\", as_cmap=True)\n",
    "(round(pd.crosstab(df[plot_criteria[0]], df[plot_criteria[1]], normalize='columns') * 100,2)).style.background_gradient(cmap = cm)"
   ]
  },
  {
   "cell_type": "code",
   "execution_count": 16,
   "metadata": {},
   "outputs": [
    {
     "data": {
      "text/html": [
       "<style  type=\"text/css\" >\n",
       "#T_a4bea_row0_col0,#T_a4bea_row0_col1{\n",
       "            background-color:  #ff0000;\n",
       "            color:  #f1f1f1;\n",
       "        }#T_a4bea_row1_col0,#T_a4bea_row1_col1{\n",
       "            background-color:  #ffe5e5;\n",
       "            color:  #000000;\n",
       "        }</style><table id=\"T_a4bea_\" ><thead>    <tr>        <th class=\"index_name level0\" >class</th>        <th class=\"col_heading level0 col0\" >Negative</th>        <th class=\"col_heading level0 col1\" >Positive</th>    </tr>    <tr>        <th class=\"index_name level0\" >delayed healing</th>        <th class=\"blank\" ></th>        <th class=\"blank\" ></th>    </tr></thead><tbody>\n",
       "                <tr>\n",
       "                        <th id=\"T_a4bea_level0_row0\" class=\"row_heading level0 row0\" >No</th>\n",
       "                        <td id=\"T_a4bea_row0_col0\" class=\"data row0 col0\" >57.000000</td>\n",
       "                        <td id=\"T_a4bea_row0_col1\" class=\"data row0 col1\" >52.190000</td>\n",
       "            </tr>\n",
       "            <tr>\n",
       "                        <th id=\"T_a4bea_level0_row1\" class=\"row_heading level0 row1\" >Yes</th>\n",
       "                        <td id=\"T_a4bea_row1_col0\" class=\"data row1 col0\" >43.000000</td>\n",
       "                        <td id=\"T_a4bea_row1_col1\" class=\"data row1 col1\" >47.810000</td>\n",
       "            </tr>\n",
       "    </tbody></table>"
      ],
      "text/plain": [
       "<pandas.io.formats.style.Styler at 0x13ddbaa21c0>"
      ]
     },
     "execution_count": 16,
     "metadata": {},
     "output_type": "execute_result"
    },
    {
     "data": {
      "image/png": "[encoded data removed]",
      "text/plain": [
       "<Figure size 432x288 with 1 Axes>"
      ]
     },
     "metadata": {
      "needs_background": "light"
     },
     "output_type": "display_data"
    }
   ],
   "source": [
    "# Distribution of delayed healing\n",
    "sns.countplot(df['delayed healing'],hue=df['class'], data=df)\n",
    "\n",
    "\n",
    "plot_criteria= ['delayed healing', 'class']\n",
    "cm = sns.light_palette(\"red\", as_cmap=True)\n",
    "(round(pd.crosstab(df[plot_criteria[0]], df[plot_criteria[1]], normalize='columns') * 100,2)).style.background_gradient(cmap = cm)"
   ]
  },
  {
   "cell_type": "code",
   "execution_count": 17,
   "metadata": {},
   "outputs": [
    {
     "data": {
      "text/html": [
       "<style  type=\"text/css\" >\n",
       "#T_6a960_row0_col0,#T_6a960_row1_col1{\n",
       "            background-color:  #ff0000;\n",
       "            color:  #f1f1f1;\n",
       "        }#T_6a960_row0_col1,#T_6a960_row1_col0{\n",
       "            background-color:  #ffe5e5;\n",
       "            color:  #000000;\n",
       "        }</style><table id=\"T_6a960_\" ><thead>    <tr>        <th class=\"index_name level0\" >class</th>        <th class=\"col_heading level0 col0\" >Negative</th>        <th class=\"col_heading level0 col1\" >Positive</th>    </tr>    <tr>        <th class=\"index_name level0\" >partial paresis</th>        <th class=\"blank\" ></th>        <th class=\"blank\" ></th>    </tr></thead><tbody>\n",
       "                <tr>\n",
       "                        <th id=\"T_6a960_level0_row0\" class=\"row_heading level0 row0\" >No</th>\n",
       "                        <td id=\"T_6a960_row0_col0\" class=\"data row0 col0\" >84.000000</td>\n",
       "                        <td id=\"T_6a960_row0_col1\" class=\"data row0 col1\" >40.000000</td>\n",
       "            </tr>\n",
       "            <tr>\n",
       "                        <th id=\"T_6a960_level0_row1\" class=\"row_heading level0 row1\" >Yes</th>\n",
       "                        <td id=\"T_6a960_row1_col0\" class=\"data row1 col0\" >16.000000</td>\n",
       "                        <td id=\"T_6a960_row1_col1\" class=\"data row1 col1\" >60.000000</td>\n",
       "            </tr>\n",
       "    </tbody></table>"
      ],
      "text/plain": [
       "<pandas.io.formats.style.Styler at 0x13ddd037a00>"
      ]
     },
     "execution_count": 17,
     "metadata": {},
     "output_type": "execute_result"
    },
    {
     "data": {
      "image/png": "[encoded data removed]",
      "text/plain": [
       "<Figure size 432x288 with 1 Axes>"
      ]
     },
     "metadata": {
      "needs_background": "light"
     },
     "output_type": "display_data"
    }
   ],
   "source": [
    "# Distribution of partial paresis\n",
    "sns.countplot(df['partial paresis'],hue=df['class'], data=df)\n",
    "\n",
    "\n",
    "plot_criteria= ['partial paresis', 'class']\n",
    "cm = sns.light_palette(\"red\", as_cmap=True)\n",
    "(round(pd.crosstab(df[plot_criteria[0]], df[plot_criteria[1]], normalize='columns') * 100,2)).style.background_gradient(cmap = cm)"
   ]
  },
  {
   "cell_type": "code",
   "execution_count": 18,
   "metadata": {},
   "outputs": [
    {
     "data": {
      "text/html": [
       "<style  type=\"text/css\" >\n",
       "#T_69b91_row0_col0,#T_69b91_row0_col1{\n",
       "            background-color:  #ff0000;\n",
       "            color:  #f1f1f1;\n",
       "        }#T_69b91_row1_col0,#T_69b91_row1_col1{\n",
       "            background-color:  #ffe5e5;\n",
       "            color:  #000000;\n",
       "        }</style><table id=\"T_69b91_\" ><thead>    <tr>        <th class=\"index_name level0\" >class</th>        <th class=\"col_heading level0 col0\" >Negative</th>        <th class=\"col_heading level0 col1\" >Positive</th>    </tr>    <tr>        <th class=\"index_name level0\" >muscle stiffness</th>        <th class=\"blank\" ></th>        <th class=\"blank\" ></th>    </tr></thead><tbody>\n",
       "                <tr>\n",
       "                        <th id=\"T_69b91_level0_row0\" class=\"row_heading level0 row0\" >No</th>\n",
       "                        <td id=\"T_69b91_row0_col0\" class=\"data row0 col0\" >70.000000</td>\n",
       "                        <td id=\"T_69b91_row0_col1\" class=\"data row0 col1\" >57.810000</td>\n",
       "            </tr>\n",
       "            <tr>\n",
       "                        <th id=\"T_69b91_level0_row1\" class=\"row_heading level0 row1\" >Yes</th>\n",
       "                        <td id=\"T_69b91_row1_col0\" class=\"data row1 col0\" >30.000000</td>\n",
       "                        <td id=\"T_69b91_row1_col1\" class=\"data row1 col1\" >42.190000</td>\n",
       "            </tr>\n",
       "    </tbody></table>"
      ],
      "text/plain": [
       "<pandas.io.formats.style.Styler at 0x13ddd03e2e0>"
      ]
     },
     "execution_count": 18,
     "metadata": {},
     "output_type": "execute_result"
    },
    {
     "data": {
      "image/png": "[encoded data removed]",
      "text/plain": [
       "<Figure size 432x288 with 1 Axes>"
      ]
     },
     "metadata": {
      "needs_background": "light"
     },
     "output_type": "display_data"
    }
   ],
   "source": [
    "# Distribution of muscle stiffness\n",
    "sns.countplot(df['muscle stiffness'],hue=df['class'], data=df)\n",
    "\n",
    "\n",
    "plot_criteria= ['muscle stiffness', 'class']\n",
    "cm = sns.light_palette(\"red\", as_cmap=True)\n",
    "(round(pd.crosstab(df[plot_criteria[0]], df[plot_criteria[1]], normalize='columns') * 100,2)).style.background_gradient(cmap = cm)"
   ]
  },
  {
   "cell_type": "code",
   "execution_count": 19,
   "metadata": {},
   "outputs": [
    {
     "data": {
      "text/html": [
       "<style  type=\"text/css\" >\n",
       "#T_763e1_row0_col0,#T_763e1_row1_col1{\n",
       "            background-color:  #ffe5e5;\n",
       "            color:  #000000;\n",
       "        }#T_763e1_row0_col1,#T_763e1_row1_col0{\n",
       "            background-color:  #ff0000;\n",
       "            color:  #f1f1f1;\n",
       "        }</style><table id=\"T_763e1_\" ><thead>    <tr>        <th class=\"index_name level0\" >class</th>        <th class=\"col_heading level0 col0\" >Negative</th>        <th class=\"col_heading level0 col1\" >Positive</th>    </tr>    <tr>        <th class=\"index_name level0\" >Alopecia</th>        <th class=\"blank\" ></th>        <th class=\"blank\" ></th>    </tr></thead><tbody>\n",
       "                <tr>\n",
       "                        <th id=\"T_763e1_level0_row0\" class=\"row_heading level0 row0\" >No</th>\n",
       "                        <td id=\"T_763e1_row0_col0\" class=\"data row0 col0\" >49.500000</td>\n",
       "                        <td id=\"T_763e1_row0_col1\" class=\"data row0 col1\" >75.620000</td>\n",
       "            </tr>\n",
       "            <tr>\n",
       "                        <th id=\"T_763e1_level0_row1\" class=\"row_heading level0 row1\" >Yes</th>\n",
       "                        <td id=\"T_763e1_row1_col0\" class=\"data row1 col0\" >50.500000</td>\n",
       "                        <td id=\"T_763e1_row1_col1\" class=\"data row1 col1\" >24.380000</td>\n",
       "            </tr>\n",
       "    </tbody></table>"
      ],
      "text/plain": [
       "<pandas.io.formats.style.Styler at 0x13ddd12df40>"
      ]
     },
     "execution_count": 19,
     "metadata": {},
     "output_type": "execute_result"
    },
    {
     "data": {
      "image/png": "[encoded data removed]",
      "text/plain": [
       "<Figure size 432x288 with 1 Axes>"
      ]
     },
     "metadata": {
      "needs_background": "light"
     },
     "output_type": "display_data"
    }
   ],
   "source": [
    "# Distribution of Alopecia\n",
    "sns.countplot(df['Alopecia'],hue=df['class'], data=df)\n",
    "\n",
    "\n",
    "plot_criteria= ['Alopecia', 'class']\n",
    "cm = sns.light_palette(\"red\", as_cmap=True)\n",
    "(round(pd.crosstab(df[plot_criteria[0]], df[plot_criteria[1]], normalize='columns') * 100,2)).style.background_gradient(cmap = cm)"
   ]
  },
  {
   "cell_type": "code",
   "execution_count": 20,
   "metadata": {},
   "outputs": [
    {
     "data": {
      "text/html": [
       "<style  type=\"text/css\" >\n",
       "#T_f9ee9_row0_col0,#T_f9ee9_row0_col1{\n",
       "            background-color:  #ff0000;\n",
       "            color:  #f1f1f1;\n",
       "        }#T_f9ee9_row1_col0,#T_f9ee9_row1_col1{\n",
       "            background-color:  #ffe5e5;\n",
       "            color:  #000000;\n",
       "        }</style><table id=\"T_f9ee9_\" ><thead>    <tr>        <th class=\"index_name level0\" >class</th>        <th class=\"col_heading level0 col0\" >Negative</th>        <th class=\"col_heading level0 col1\" >Positive</th>    </tr>    <tr>        <th class=\"index_name level0\" >Obesity</th>        <th class=\"blank\" ></th>        <th class=\"blank\" ></th>    </tr></thead><tbody>\n",
       "                <tr>\n",
       "                        <th id=\"T_f9ee9_level0_row0\" class=\"row_heading level0 row0\" >No</th>\n",
       "                        <td id=\"T_f9ee9_row0_col0\" class=\"data row0 col0\" >86.500000</td>\n",
       "                        <td id=\"T_f9ee9_row0_col1\" class=\"data row0 col1\" >80.940000</td>\n",
       "            </tr>\n",
       "            <tr>\n",
       "                        <th id=\"T_f9ee9_level0_row1\" class=\"row_heading level0 row1\" >Yes</th>\n",
       "                        <td id=\"T_f9ee9_row1_col0\" class=\"data row1 col0\" >13.500000</td>\n",
       "                        <td id=\"T_f9ee9_row1_col1\" class=\"data row1 col1\" >19.060000</td>\n",
       "            </tr>\n",
       "    </tbody></table>"
      ],
      "text/plain": [
       "<pandas.io.formats.style.Styler at 0x13ddd0a4610>"
      ]
     },
     "execution_count": 20,
     "metadata": {},
     "output_type": "execute_result"
    },
    {
     "data": {
      "image/png": "[encoded data removed]",
      "text/plain": [
       "<Figure size 432x288 with 1 Axes>"
      ]
     },
     "metadata": {
      "needs_background": "light"
     },
     "output_type": "display_data"
    }
   ],
   "source": [
    "# Distribution of Obesity\n",
    "sns.countplot(df['Obesity'],hue=df['class'], data=df)\n",
    "\n",
    "\n",
    "plot_criteria= ['Obesity', 'class']\n",
    "cm = sns.light_palette(\"red\", as_cmap=True)\n",
    "(round(pd.crosstab(df[plot_criteria[0]], df[plot_criteria[1]], normalize='columns') * 100,2)).style.background_gradient(cmap = cm)"
   ]
  },
  {
   "cell_type": "markdown",
   "metadata": {},
   "source": [
    "## Occurences of Symptoms in patients"
   ]
  },
  {
   "cell_type": "code",
   "execution_count": 21,
   "metadata": {},
   "outputs": [],
   "source": [
    "# Function for Pie Plot\n",
    "def plotPie(value, title, label):\n",
    "    plt.figure(figsize=(4,4))\n",
    "    plt.pie(\n",
    "        value.value_counts(),\n",
    "        startangle=90,\n",
    "        labels = label,\n",
    "        autopct=(lambda p:f'{p:.2f}%\\n{p*sum(value.value_counts())/100 :.0f} items')\n",
    "    )\n",
    "    plt.title(title)\n",
    "    plt.show()"
   ]
  },
  {
   "cell_type": "code",
   "execution_count": 22,
   "metadata": {},
   "outputs": [
    {
     "data": {
      "text/plain": [
       "<Figure size 360x360 with 0 Axes>"
      ]
     },
     "metadata": {},
     "output_type": "display_data"
    },
    {
     "data": {
      "image/png": "[encoded data removed]",
      "text/plain": [
       "<Figure size 288x288 with 1 Axes>"
      ]
     },
     "metadata": {},
     "output_type": "display_data"
    },
    {
     "data": {
      "image/png": "[encoded data removed]",
      "text/plain": [
       "<Figure size 288x288 with 1 Axes>"
      ]
     },
     "metadata": {},
     "output_type": "display_data"
    },
    {
     "data": {
      "image/png": "[encoded data removed]",
      "text/plain": [
       "<Figure size 288x288 with 1 Axes>"
      ]
     },
     "metadata": {},
     "output_type": "display_data"
    },
    {
     "data": {
      "image/png": "[encoded data removed]",
      "text/plain": [
       "<Figure size 288x288 with 1 Axes>"
      ]
     },
     "metadata": {},
     "output_type": "display_data"
    },
    {
     "data": {
      "image/png": "[encoded data removed]",
      "text/plain": [
       "<Figure size 288x288 with 1 Axes>"
      ]
     },
     "metadata": {},
     "output_type": "display_data"
    },
    {
     "data": {
      "image/png": "[encoded data removed]",
      "text/plain": [
       "<Figure size 288x288 with 1 Axes>"
      ]
     },
     "metadata": {},
     "output_type": "display_data"
    },
    {
     "data": {
      "image/png": "[encoded data removed]",
      "text/plain": [
       "<Figure size 288x288 with 1 Axes>"
      ]
     },
     "metadata": {},
     "output_type": "display_data"
    },
    {
     "data": {
      "image/png": "[encoded data removed]",
      "text/plain": [
       "<Figure size 288x288 with 1 Axes>"
      ]
     },
     "metadata": {},
     "output_type": "display_data"
    },
    {
     "data": {
      "image/png": "[encoded data removed]",
      "text/plain": [
       "<Figure size 288x288 with 1 Axes>"
      ]
     },
     "metadata": {},
     "output_type": "display_data"
    },
    {
     "data": {
      "image/png": "[encoded data removed]",
      "text/plain": [
       "<Figure size 288x288 with 1 Axes>"
      ]
     },
     "metadata": {},
     "output_type": "display_data"
    },
    {
     "data": {
      "image/png": "[encoded data removed]",
      "text/plain": [
       "<Figure size 288x288 with 1 Axes>"
      ]
     },
     "metadata": {},
     "output_type": "display_data"
    },
    {
     "data": {
      "image/png": "[encoded data removed]",
      "text/plain": [
       "<Figure size 288x288 with 1 Axes>"
      ]
     },
     "metadata": {},
     "output_type": "display_data"
    },
    {
     "data": {
      "image/png": "[encoded data removed]",
      "text/plain": [
       "<Figure size 288x288 with 1 Axes>"
      ]
     },
     "metadata": {},
     "output_type": "display_data"
    },
    {
     "data": {
      "image/png": "[encoded data removed]",
      "text/plain": [
       "<Figure size 288x288 with 1 Axes>"
      ]
     },
     "metadata": {},
     "output_type": "display_data"
    }
   ],
   "source": [
    "df_symptoms = df[df.columns.difference([\"Age\", \"class\", \"Gender\"])]\n",
    "plt.figure(figsize=(5,5))\n",
    "\n",
    "for column in df_symptoms.columns:\n",
    "    plotPie(df_symptoms[column], column.capitalize(), [\"Yes\", \"No\"])"
   ]
  },
  {
   "cell_type": "markdown",
   "metadata": {},
   "source": [
    "## Data Pre-Processing"
   ]
  },
  {
   "cell_type": "code",
   "execution_count": 23,
   "metadata": {},
   "outputs": [
    {
     "data": {
      "text/plain": [
       "0    1\n",
       "1    1\n",
       "2    1\n",
       "3    1\n",
       "4    1\n",
       "Name: class, dtype: int64"
      ]
     },
     "execution_count": 23,
     "metadata": {},
     "output_type": "execute_result"
    }
   ],
   "source": [
    "# Changing Postive to 1 and Negative to 0\n",
    "df['class'] = df['class'].apply(lambda x: 0 if x=='Negative' else 1)\n",
    "df['class'].head()"
   ]
  },
  {
   "cell_type": "code",
   "execution_count": 24,
   "metadata": {},
   "outputs": [],
   "source": [
    "# Separating Target feature\n",
    "X = df.drop(['class'], axis=1)\n",
    "y = df['class']"
   ]
  },
  {
   "cell_type": "code",
   "execution_count": 25,
   "metadata": {},
   "outputs": [
    {
     "name": "stdout",
     "output_type": "stream",
     "text": [
      "Index(['Gender', 'Polyuria', 'Polydipsia', 'sudden weight loss', 'weakness',\n",
      "       'Polyphagia', 'Genital thrush', 'visual blurring', 'Itching',\n",
      "       'Irritability', 'delayed healing', 'partial paresis',\n",
      "       'muscle stiffness', 'Alopecia', 'Obesity'],\n",
      "      dtype='object')\n"
     ]
    }
   ],
   "source": [
    "# Storing Features\n",
    "objectList = X.select_dtypes(include = \"object\").columns\n",
    "print(objectList)"
   ]
  },
  {
   "cell_type": "code",
   "execution_count": 26,
   "metadata": {},
   "outputs": [
    {
     "name": "stdout",
     "output_type": "stream",
     "text": [
      "<class 'pandas.core.frame.DataFrame'>\n",
      "RangeIndex: 520 entries, 0 to 519\n",
      "Data columns (total 16 columns):\n",
      " #   Column              Non-Null Count  Dtype\n",
      "---  ------              --------------  -----\n",
      " 0   Age                 520 non-null    int64\n",
      " 1   Gender              520 non-null    int32\n",
      " 2   Polyuria            520 non-null    int32\n",
      " 3   Polydipsia          520 non-null    int32\n",
      " 4   sudden weight loss  520 non-null    int32\n",
      " 5   weakness            520 non-null    int32\n",
      " 6   Polyphagia          520 non-null    int32\n",
      " 7   Genital thrush      520 non-null    int32\n",
      " 8   visual blurring     520 non-null    int32\n",
      " 9   Itching             520 non-null    int32\n",
      " 10  Irritability        520 non-null    int32\n",
      " 11  delayed healing     520 non-null    int32\n",
      " 12  partial paresis     520 non-null    int32\n",
      " 13  muscle stiffness    520 non-null    int32\n",
      " 14  Alopecia            520 non-null    int32\n",
      " 15  Obesity             520 non-null    int32\n",
      "dtypes: int32(15), int64(1)\n",
      "memory usage: 34.7 KB\n",
      "None\n"
     ]
    }
   ],
   "source": [
    "#Label Encoding for object to numeric conversion\n",
    "from sklearn.preprocessing import LabelEncoder\n",
    "le = LabelEncoder()\n",
    "\n",
    "for feature in objectList:\n",
    "    X[feature] = le.fit_transform(X[feature].astype(str))\n",
    "\n",
    "print (X.info())"
   ]
  },
  {
   "cell_type": "code",
   "execution_count": 28,
   "metadata": {},
   "outputs": [
    {
     "data": {
      "text/html": [
       "<div>\n",
       "<style scoped>\n",
       "    .dataframe tbody tr th:only-of-type {\n",
       "        vertical-align: middle;\n",
       "    }\n",
       "\n",
       "    .dataframe tbody tr th {\n",
       "        vertical-align: top;\n",
       "    }\n",
       "\n",
       "    .dataframe thead th {\n",
       "        text-align: right;\n",
       "    }\n",
       "</style>\n",
       "<table border=\"1\" class=\"dataframe\">\n",
       "  <thead>\n",
       "    <tr style=\"text-align: right;\">\n",
       "      <th></th>\n",
       "      <th>Age</th>\n",
       "      <th>Gender</th>\n",
       "      <th>Polyuria</th>\n",
       "      <th>Polydipsia</th>\n",
       "      <th>sudden weight loss</th>\n",
       "      <th>weakness</th>\n",
       "      <th>Polyphagia</th>\n",
       "      <th>Genital thrush</th>\n",
       "      <th>visual blurring</th>\n",
       "      <th>Itching</th>\n",
       "      <th>Irritability</th>\n",
       "      <th>delayed healing</th>\n",
       "      <th>partial paresis</th>\n",
       "      <th>muscle stiffness</th>\n",
       "      <th>Alopecia</th>\n",
       "      <th>Obesity</th>\n",
       "      <th>class</th>\n",
       "    </tr>\n",
       "  </thead>\n",
       "  <tbody>\n",
       "    <tr>\n",
       "      <th>0</th>\n",
       "      <td>40</td>\n",
       "      <td>Male</td>\n",
       "      <td>No</td>\n",
       "      <td>Yes</td>\n",
       "      <td>No</td>\n",
       "      <td>Yes</td>\n",
       "      <td>No</td>\n",
       "      <td>No</td>\n",
       "      <td>No</td>\n",
       "      <td>Yes</td>\n",
       "      <td>No</td>\n",
       "      <td>Yes</td>\n",
       "      <td>No</td>\n",
       "      <td>Yes</td>\n",
       "      <td>Yes</td>\n",
       "      <td>Yes</td>\n",
       "      <td>1</td>\n",
       "    </tr>\n",
       "    <tr>\n",
       "      <th>1</th>\n",
       "      <td>58</td>\n",
       "      <td>Male</td>\n",
       "      <td>No</td>\n",
       "      <td>No</td>\n",
       "      <td>No</td>\n",
       "      <td>Yes</td>\n",
       "      <td>No</td>\n",
       "      <td>No</td>\n",
       "      <td>Yes</td>\n",
       "      <td>No</td>\n",
       "      <td>No</td>\n",
       "      <td>No</td>\n",
       "      <td>Yes</td>\n",
       "      <td>No</td>\n",
       "      <td>Yes</td>\n",
       "      <td>No</td>\n",
       "      <td>1</td>\n",
       "    </tr>\n",
       "    <tr>\n",
       "      <th>2</th>\n",
       "      <td>41</td>\n",
       "      <td>Male</td>\n",
       "      <td>Yes</td>\n",
       "      <td>No</td>\n",
       "      <td>No</td>\n",
       "      <td>Yes</td>\n",
       "      <td>Yes</td>\n",
       "      <td>No</td>\n",
       "      <td>No</td>\n",
       "      <td>Yes</td>\n",
       "      <td>No</td>\n",
       "      <td>Yes</td>\n",
       "      <td>No</td>\n",
       "      <td>Yes</td>\n",
       "      <td>Yes</td>\n",
       "      <td>No</td>\n",
       "      <td>1</td>\n",
       "    </tr>\n",
       "    <tr>\n",
       "      <th>3</th>\n",
       "      <td>45</td>\n",
       "      <td>Male</td>\n",
       "      <td>No</td>\n",
       "      <td>No</td>\n",
       "      <td>Yes</td>\n",
       "      <td>Yes</td>\n",
       "      <td>Yes</td>\n",
       "      <td>Yes</td>\n",
       "      <td>No</td>\n",
       "      <td>Yes</td>\n",
       "      <td>No</td>\n",
       "      <td>Yes</td>\n",
       "      <td>No</td>\n",
       "      <td>No</td>\n",
       "      <td>No</td>\n",
       "      <td>No</td>\n",
       "      <td>1</td>\n",
       "    </tr>\n",
       "    <tr>\n",
       "      <th>4</th>\n",
       "      <td>60</td>\n",
       "      <td>Male</td>\n",
       "      <td>Yes</td>\n",
       "      <td>Yes</td>\n",
       "      <td>Yes</td>\n",
       "      <td>Yes</td>\n",
       "      <td>Yes</td>\n",
       "      <td>No</td>\n",
       "      <td>Yes</td>\n",
       "      <td>Yes</td>\n",
       "      <td>Yes</td>\n",
       "      <td>Yes</td>\n",
       "      <td>Yes</td>\n",
       "      <td>Yes</td>\n",
       "      <td>Yes</td>\n",
       "      <td>Yes</td>\n",
       "      <td>1</td>\n",
       "    </tr>\n",
       "  </tbody>\n",
       "</table>\n",
       "</div>"
      ],
      "text/plain": [
       "   Age Gender Polyuria Polydipsia sudden weight loss weakness Polyphagia  \\\n",
       "0   40   Male       No        Yes                 No      Yes         No   \n",
       "1   58   Male       No         No                 No      Yes         No   \n",
       "2   41   Male      Yes         No                 No      Yes        Yes   \n",
       "3   45   Male       No         No                Yes      Yes        Yes   \n",
       "4   60   Male      Yes        Yes                Yes      Yes        Yes   \n",
       "\n",
       "  Genital thrush visual blurring Itching Irritability delayed healing  \\\n",
       "0             No              No     Yes           No             Yes   \n",
       "1             No             Yes      No           No              No   \n",
       "2             No              No     Yes           No             Yes   \n",
       "3            Yes              No     Yes           No             Yes   \n",
       "4             No             Yes     Yes          Yes             Yes   \n",
       "\n",
       "  partial paresis muscle stiffness Alopecia Obesity  class  \n",
       "0              No              Yes      Yes     Yes      1  \n",
       "1             Yes               No      Yes      No      1  \n",
       "2              No              Yes      Yes      No      1  \n",
       "3              No               No       No      No      1  \n",
       "4             Yes              Yes      Yes     Yes      1  "
      ]
     },
     "execution_count": 28,
     "metadata": {},
     "output_type": "execute_result"
    }
   ],
   "source": [
    "df.head()"
   ]
  },
  {
   "cell_type": "code",
   "execution_count": 27,
   "metadata": {},
   "outputs": [
    {
     "data": {
      "text/html": [
       "<div>\n",
       "<style scoped>\n",
       "    .dataframe tbody tr th:only-of-type {\n",
       "        vertical-align: middle;\n",
       "    }\n",
       "\n",
       "    .dataframe tbody tr th {\n",
       "        vertical-align: top;\n",
       "    }\n",
       "\n",
       "    .dataframe thead th {\n",
       "        text-align: right;\n",
       "    }\n",
       "</style>\n",
       "<table border=\"1\" class=\"dataframe\">\n",
       "  <thead>\n",
       "    <tr style=\"text-align: right;\">\n",
       "      <th></th>\n",
       "      <th>Age</th>\n",
       "      <th>Gender</th>\n",
       "      <th>Polyuria</th>\n",
       "      <th>Polydipsia</th>\n",
       "      <th>sudden weight loss</th>\n",
       "      <th>weakness</th>\n",
       "      <th>Polyphagia</th>\n",
       "      <th>Genital thrush</th>\n",
       "      <th>visual blurring</th>\n",
       "      <th>Itching</th>\n",
       "      <th>Irritability</th>\n",
       "      <th>delayed healing</th>\n",
       "      <th>partial paresis</th>\n",
       "      <th>muscle stiffness</th>\n",
       "      <th>Alopecia</th>\n",
       "      <th>Obesity</th>\n",
       "    </tr>\n",
       "  </thead>\n",
       "  <tbody>\n",
       "    <tr>\n",
       "      <th>0</th>\n",
       "      <td>40</td>\n",
       "      <td>1</td>\n",
       "      <td>0</td>\n",
       "      <td>1</td>\n",
       "      <td>0</td>\n",
       "      <td>1</td>\n",
       "      <td>0</td>\n",
       "      <td>0</td>\n",
       "      <td>0</td>\n",
       "      <td>1</td>\n",
       "      <td>0</td>\n",
       "      <td>1</td>\n",
       "      <td>0</td>\n",
       "      <td>1</td>\n",
       "      <td>1</td>\n",
       "      <td>1</td>\n",
       "    </tr>\n",
       "    <tr>\n",
       "      <th>1</th>\n",
       "      <td>58</td>\n",
       "      <td>1</td>\n",
       "      <td>0</td>\n",
       "      <td>0</td>\n",
       "      <td>0</td>\n",
       "      <td>1</td>\n",
       "      <td>0</td>\n",
       "      <td>0</td>\n",
       "      <td>1</td>\n",
       "      <td>0</td>\n",
       "      <td>0</td>\n",
       "      <td>0</td>\n",
       "      <td>1</td>\n",
       "      <td>0</td>\n",
       "      <td>1</td>\n",
       "      <td>0</td>\n",
       "    </tr>\n",
       "    <tr>\n",
       "      <th>2</th>\n",
       "      <td>41</td>\n",
       "      <td>1</td>\n",
       "      <td>1</td>\n",
       "      <td>0</td>\n",
       "      <td>0</td>\n",
       "      <td>1</td>\n",
       "      <td>1</td>\n",
       "      <td>0</td>\n",
       "      <td>0</td>\n",
       "      <td>1</td>\n",
       "      <td>0</td>\n",
       "      <td>1</td>\n",
       "      <td>0</td>\n",
       "      <td>1</td>\n",
       "      <td>1</td>\n",
       "      <td>0</td>\n",
       "    </tr>\n",
       "    <tr>\n",
       "      <th>3</th>\n",
       "      <td>45</td>\n",
       "      <td>1</td>\n",
       "      <td>0</td>\n",
       "      <td>0</td>\n",
       "      <td>1</td>\n",
       "      <td>1</td>\n",
       "      <td>1</td>\n",
       "      <td>1</td>\n",
       "      <td>0</td>\n",
       "      <td>1</td>\n",
       "      <td>0</td>\n",
       "      <td>1</td>\n",
       "      <td>0</td>\n",
       "      <td>0</td>\n",
       "      <td>0</td>\n",
       "      <td>0</td>\n",
       "    </tr>\n",
       "    <tr>\n",
       "      <th>4</th>\n",
       "      <td>60</td>\n",
       "      <td>1</td>\n",
       "      <td>1</td>\n",
       "      <td>1</td>\n",
       "      <td>1</td>\n",
       "      <td>1</td>\n",
       "      <td>1</td>\n",
       "      <td>0</td>\n",
       "      <td>1</td>\n",
       "      <td>1</td>\n",
       "      <td>1</td>\n",
       "      <td>1</td>\n",
       "      <td>1</td>\n",
       "      <td>1</td>\n",
       "      <td>1</td>\n",
       "      <td>1</td>\n",
       "    </tr>\n",
       "  </tbody>\n",
       "</table>\n",
       "</div>"
      ],
      "text/plain": [
       "   Age  Gender  Polyuria  Polydipsia  sudden weight loss  weakness  \\\n",
       "0   40       1         0           1                   0         1   \n",
       "1   58       1         0           0                   0         1   \n",
       "2   41       1         1           0                   0         1   \n",
       "3   45       1         0           0                   1         1   \n",
       "4   60       1         1           1                   1         1   \n",
       "\n",
       "   Polyphagia  Genital thrush  visual blurring  Itching  Irritability  \\\n",
       "0           0               0                0        1             0   \n",
       "1           0               0                1        0             0   \n",
       "2           1               0                0        1             0   \n",
       "3           1               1                0        1             0   \n",
       "4           1               0                1        1             1   \n",
       "\n",
       "   delayed healing  partial paresis  muscle stiffness  Alopecia  Obesity  \n",
       "0                1                0                 1         1        1  \n",
       "1                0                1                 0         1        0  \n",
       "2                1                0                 1         1        0  \n",
       "3                1                0                 0         0        0  \n",
       "4                1                1                 1         1        1  "
      ]
     },
     "execution_count": 27,
     "metadata": {},
     "output_type": "execute_result"
    }
   ],
   "source": [
    "X.head(5)"
   ]
  },
  {
   "cell_type": "markdown",
   "metadata": {},
   "source": [
    "## Correlation between features"
   ]
  },
  {
   "cell_type": "code",
   "execution_count": 28,
   "metadata": {},
   "outputs": [
    {
     "data": {
      "text/plain": [
       "Age                   0.108679\n",
       "Gender               -0.449233\n",
       "Polyuria              0.665922\n",
       "Polydipsia            0.648734\n",
       "sudden weight loss    0.436568\n",
       "weakness              0.243275\n",
       "Polyphagia            0.342504\n",
       "Genital thrush        0.110288\n",
       "visual blurring       0.251300\n",
       "Itching              -0.013384\n",
       "Irritability          0.299467\n",
       "delayed healing       0.046980\n",
       "partial paresis       0.432288\n",
       "muscle stiffness      0.122474\n",
       "Alopecia             -0.267512\n",
       "Obesity               0.072173\n",
       "dtype: float64"
      ]
     },
     "execution_count": 28,
     "metadata": {},
     "output_type": "execute_result"
    }
   ],
   "source": [
    "X.corrwith(y)"
   ]
  },
  {
   "cell_type": "code",
   "execution_count": 29,
   "metadata": {},
   "outputs": [
    {
     "data": {
      "text/plain": [
       "<matplotlib.axes._subplots.AxesSubplot at 0x1fd7fe117c0>"
      ]
     },
     "execution_count": 29,
     "metadata": {},
     "output_type": "execute_result"
    },
    {
     "data": {
      "image/png": "[encoded data removed]",
      "text/plain": [
       "<Figure size 1152x432 with 1 Axes>"
      ]
     },
     "metadata": {
      "needs_background": "light"
     },
     "output_type": "display_data"
    }
   ],
   "source": [
    "#Correlation with Response Variable class\n",
    "\n",
    "X.corrwith(y).plot.bar(\n",
    "        figsize = (16, 6), title = \"Correlation with Diabetes\", fontsize = 15,\n",
    "        rot = 90, grid = True)\n"
   ]
  },
  {
   "cell_type": "markdown",
   "metadata": {},
   "source": [
    "## Train and Test Split"
   ]
  },
  {
   "cell_type": "code",
   "execution_count": 30,
   "metadata": {},
   "outputs": [],
   "source": [
    "X_train, X_test, y_train, y_test = train_test_split(X, y, test_size = 0.2,stratify=y, random_state = 12345)"
   ]
  },
  {
   "cell_type": "code",
   "execution_count": 31,
   "metadata": {},
   "outputs": [
    {
     "name": "stdout",
     "output_type": "stream",
     "text": [
      "Distribution of target variable in training set\n",
      "1    256\n",
      "0    160\n",
      "Name: class, dtype: int64\n",
      "Distribution of target variable in test set\n",
      "1    64\n",
      "0    40\n",
      "Name: class, dtype: int64\n"
     ]
    }
   ],
   "source": [
    "## checking distribution of target variable in train test split\n",
    "print('Distribution of target variable in training set')\n",
    "print(y_train.value_counts())\n",
    "\n",
    "print('Distribution of target variable in test set')\n",
    "print(y_test.value_counts())"
   ]
  },
  {
   "cell_type": "markdown",
   "metadata": {},
   "source": [
    "## Data Normalization"
   ]
  },
  {
   "cell_type": "code",
   "execution_count": 32,
   "metadata": {},
   "outputs": [],
   "source": [
    "minmax = MinMaxScaler()\n",
    "X_train[['Age']] = minmax.fit_transform(X_train[['Age']])\n",
    "X_test[['Age']] = minmax.transform(X_test[['Age']])"
   ]
  },
  {
   "cell_type": "code",
   "execution_count": 33,
   "metadata": {},
   "outputs": [
    {
     "data": {
      "text/html": [
       "<div>\n",
       "<style scoped>\n",
       "    .dataframe tbody tr th:only-of-type {\n",
       "        vertical-align: middle;\n",
       "    }\n",
       "\n",
       "    .dataframe tbody tr th {\n",
       "        vertical-align: top;\n",
       "    }\n",
       "\n",
       "    .dataframe thead th {\n",
       "        text-align: right;\n",
       "    }\n",
       "</style>\n",
       "<table border=\"1\" class=\"dataframe\">\n",
       "  <thead>\n",
       "    <tr style=\"text-align: right;\">\n",
       "      <th></th>\n",
       "      <th>Age</th>\n",
       "      <th>Gender</th>\n",
       "      <th>Polyuria</th>\n",
       "      <th>Polydipsia</th>\n",
       "      <th>sudden weight loss</th>\n",
       "      <th>weakness</th>\n",
       "      <th>Polyphagia</th>\n",
       "      <th>Genital thrush</th>\n",
       "      <th>visual blurring</th>\n",
       "      <th>Itching</th>\n",
       "      <th>Irritability</th>\n",
       "      <th>delayed healing</th>\n",
       "      <th>partial paresis</th>\n",
       "      <th>muscle stiffness</th>\n",
       "      <th>Alopecia</th>\n",
       "      <th>Obesity</th>\n",
       "    </tr>\n",
       "  </thead>\n",
       "  <tbody>\n",
       "    <tr>\n",
       "      <th>515</th>\n",
       "      <td>0.310811</td>\n",
       "      <td>0</td>\n",
       "      <td>1</td>\n",
       "      <td>1</td>\n",
       "      <td>1</td>\n",
       "      <td>0</td>\n",
       "      <td>1</td>\n",
       "      <td>0</td>\n",
       "      <td>0</td>\n",
       "      <td>1</td>\n",
       "      <td>0</td>\n",
       "      <td>1</td>\n",
       "      <td>1</td>\n",
       "      <td>0</td>\n",
       "      <td>0</td>\n",
       "      <td>0</td>\n",
       "    </tr>\n",
       "    <tr>\n",
       "      <th>169</th>\n",
       "      <td>0.513514</td>\n",
       "      <td>1</td>\n",
       "      <td>1</td>\n",
       "      <td>1</td>\n",
       "      <td>1</td>\n",
       "      <td>1</td>\n",
       "      <td>0</td>\n",
       "      <td>0</td>\n",
       "      <td>1</td>\n",
       "      <td>1</td>\n",
       "      <td>1</td>\n",
       "      <td>1</td>\n",
       "      <td>1</td>\n",
       "      <td>1</td>\n",
       "      <td>0</td>\n",
       "      <td>0</td>\n",
       "    </tr>\n",
       "    <tr>\n",
       "      <th>122</th>\n",
       "      <td>0.324324</td>\n",
       "      <td>1</td>\n",
       "      <td>0</td>\n",
       "      <td>1</td>\n",
       "      <td>0</td>\n",
       "      <td>1</td>\n",
       "      <td>1</td>\n",
       "      <td>0</td>\n",
       "      <td>0</td>\n",
       "      <td>1</td>\n",
       "      <td>1</td>\n",
       "      <td>1</td>\n",
       "      <td>1</td>\n",
       "      <td>1</td>\n",
       "      <td>0</td>\n",
       "      <td>1</td>\n",
       "    </tr>\n",
       "    <tr>\n",
       "      <th>278</th>\n",
       "      <td>0.297297</td>\n",
       "      <td>1</td>\n",
       "      <td>0</td>\n",
       "      <td>0</td>\n",
       "      <td>0</td>\n",
       "      <td>0</td>\n",
       "      <td>0</td>\n",
       "      <td>0</td>\n",
       "      <td>0</td>\n",
       "      <td>0</td>\n",
       "      <td>0</td>\n",
       "      <td>0</td>\n",
       "      <td>0</td>\n",
       "      <td>0</td>\n",
       "      <td>0</td>\n",
       "      <td>0</td>\n",
       "    </tr>\n",
       "    <tr>\n",
       "      <th>188</th>\n",
       "      <td>0.729730</td>\n",
       "      <td>1</td>\n",
       "      <td>1</td>\n",
       "      <td>0</td>\n",
       "      <td>1</td>\n",
       "      <td>1</td>\n",
       "      <td>1</td>\n",
       "      <td>1</td>\n",
       "      <td>0</td>\n",
       "      <td>0</td>\n",
       "      <td>1</td>\n",
       "      <td>1</td>\n",
       "      <td>1</td>\n",
       "      <td>1</td>\n",
       "      <td>1</td>\n",
       "      <td>0</td>\n",
       "    </tr>\n",
       "  </tbody>\n",
       "</table>\n",
       "</div>"
      ],
      "text/plain": [
       "          Age  Gender  Polyuria  Polydipsia  sudden weight loss  weakness  \\\n",
       "515  0.310811       0         1           1                   1         0   \n",
       "169  0.513514       1         1           1                   1         1   \n",
       "122  0.324324       1         0           1                   0         1   \n",
       "278  0.297297       1         0           0                   0         0   \n",
       "188  0.729730       1         1           0                   1         1   \n",
       "\n",
       "     Polyphagia  Genital thrush  visual blurring  Itching  Irritability  \\\n",
       "515           1               0                0        1             0   \n",
       "169           0               0                1        1             1   \n",
       "122           1               0                0        1             1   \n",
       "278           0               0                0        0             0   \n",
       "188           1               1                0        0             1   \n",
       "\n",
       "     delayed healing  partial paresis  muscle stiffness  Alopecia  Obesity  \n",
       "515                1                1                 0         0        0  \n",
       "169                1                1                 1         0        0  \n",
       "122                1                1                 1         0        1  \n",
       "278                0                0                 0         0        0  \n",
       "188                1                1                 1         1        0  "
      ]
     },
     "execution_count": 33,
     "metadata": {},
     "output_type": "execute_result"
    }
   ],
   "source": [
    "X_train.head()"
   ]
  },
  {
   "cell_type": "markdown",
   "metadata": {},
   "source": [
    "## Feature Selection"
   ]
  },
  {
   "cell_type": "code",
   "execution_count": 34,
   "metadata": {},
   "outputs": [
    {
     "data": {
      "text/plain": [
       "Index(['Age', 'Gender', 'Polyuria', 'Polydipsia', 'sudden weight loss',\n",
       "       'weakness', 'Polyphagia', 'Genital thrush', 'visual blurring',\n",
       "       'Itching', 'Irritability', 'delayed healing', 'partial paresis',\n",
       "       'muscle stiffness', 'Alopecia', 'Obesity'],\n",
       "      dtype='object')"
      ]
     },
     "execution_count": 34,
     "metadata": {},
     "output_type": "execute_result"
    }
   ],
   "source": [
    "X.columns"
   ]
  },
  {
   "cell_type": "code",
   "execution_count": 35,
   "metadata": {},
   "outputs": [
    {
     "data": {
      "text/html": [
       "<div>\n",
       "<style scoped>\n",
       "    .dataframe tbody tr th:only-of-type {\n",
       "        vertical-align: middle;\n",
       "    }\n",
       "\n",
       "    .dataframe tbody tr th {\n",
       "        vertical-align: top;\n",
       "    }\n",
       "\n",
       "    .dataframe thead th {\n",
       "        text-align: right;\n",
       "    }\n",
       "</style>\n",
       "<table border=\"1\" class=\"dataframe\">\n",
       "  <thead>\n",
       "    <tr style=\"text-align: right;\">\n",
       "      <th></th>\n",
       "      <th>Age</th>\n",
       "      <th>Gender</th>\n",
       "      <th>Polyuria</th>\n",
       "      <th>Polydipsia</th>\n",
       "      <th>sudden weight loss</th>\n",
       "      <th>weakness</th>\n",
       "      <th>Polyphagia</th>\n",
       "      <th>Genital thrush</th>\n",
       "      <th>visual blurring</th>\n",
       "      <th>Itching</th>\n",
       "      <th>Irritability</th>\n",
       "      <th>delayed healing</th>\n",
       "      <th>partial paresis</th>\n",
       "      <th>muscle stiffness</th>\n",
       "      <th>Alopecia</th>\n",
       "      <th>Obesity</th>\n",
       "    </tr>\n",
       "  </thead>\n",
       "  <tbody>\n",
       "    <tr>\n",
       "      <th>0</th>\n",
       "      <td>40</td>\n",
       "      <td>1</td>\n",
       "      <td>0</td>\n",
       "      <td>1</td>\n",
       "      <td>0</td>\n",
       "      <td>1</td>\n",
       "      <td>0</td>\n",
       "      <td>0</td>\n",
       "      <td>0</td>\n",
       "      <td>1</td>\n",
       "      <td>0</td>\n",
       "      <td>1</td>\n",
       "      <td>0</td>\n",
       "      <td>1</td>\n",
       "      <td>1</td>\n",
       "      <td>1</td>\n",
       "    </tr>\n",
       "    <tr>\n",
       "      <th>1</th>\n",
       "      <td>58</td>\n",
       "      <td>1</td>\n",
       "      <td>0</td>\n",
       "      <td>0</td>\n",
       "      <td>0</td>\n",
       "      <td>1</td>\n",
       "      <td>0</td>\n",
       "      <td>0</td>\n",
       "      <td>1</td>\n",
       "      <td>0</td>\n",
       "      <td>0</td>\n",
       "      <td>0</td>\n",
       "      <td>1</td>\n",
       "      <td>0</td>\n",
       "      <td>1</td>\n",
       "      <td>0</td>\n",
       "    </tr>\n",
       "    <tr>\n",
       "      <th>2</th>\n",
       "      <td>41</td>\n",
       "      <td>1</td>\n",
       "      <td>1</td>\n",
       "      <td>0</td>\n",
       "      <td>0</td>\n",
       "      <td>1</td>\n",
       "      <td>1</td>\n",
       "      <td>0</td>\n",
       "      <td>0</td>\n",
       "      <td>1</td>\n",
       "      <td>0</td>\n",
       "      <td>1</td>\n",
       "      <td>0</td>\n",
       "      <td>1</td>\n",
       "      <td>1</td>\n",
       "      <td>0</td>\n",
       "    </tr>\n",
       "    <tr>\n",
       "      <th>3</th>\n",
       "      <td>45</td>\n",
       "      <td>1</td>\n",
       "      <td>0</td>\n",
       "      <td>0</td>\n",
       "      <td>1</td>\n",
       "      <td>1</td>\n",
       "      <td>1</td>\n",
       "      <td>1</td>\n",
       "      <td>0</td>\n",
       "      <td>1</td>\n",
       "      <td>0</td>\n",
       "      <td>1</td>\n",
       "      <td>0</td>\n",
       "      <td>0</td>\n",
       "      <td>0</td>\n",
       "      <td>0</td>\n",
       "    </tr>\n",
       "    <tr>\n",
       "      <th>4</th>\n",
       "      <td>60</td>\n",
       "      <td>1</td>\n",
       "      <td>1</td>\n",
       "      <td>1</td>\n",
       "      <td>1</td>\n",
       "      <td>1</td>\n",
       "      <td>1</td>\n",
       "      <td>0</td>\n",
       "      <td>1</td>\n",
       "      <td>1</td>\n",
       "      <td>1</td>\n",
       "      <td>1</td>\n",
       "      <td>1</td>\n",
       "      <td>1</td>\n",
       "      <td>1</td>\n",
       "      <td>1</td>\n",
       "    </tr>\n",
       "  </tbody>\n",
       "</table>\n",
       "</div>"
      ],
      "text/plain": [
       "   Age  Gender  Polyuria  Polydipsia  sudden weight loss  weakness  \\\n",
       "0   40       1         0           1                   0         1   \n",
       "1   58       1         0           0                   0         1   \n",
       "2   41       1         1           0                   0         1   \n",
       "3   45       1         0           0                   1         1   \n",
       "4   60       1         1           1                   1         1   \n",
       "\n",
       "   Polyphagia  Genital thrush  visual blurring  Itching  Irritability  \\\n",
       "0           0               0                0        1             0   \n",
       "1           0               0                1        0             0   \n",
       "2           1               0                0        1             0   \n",
       "3           1               1                0        1             0   \n",
       "4           1               0                1        1             1   \n",
       "\n",
       "   delayed healing  partial paresis  muscle stiffness  Alopecia  Obesity  \n",
       "0                1                0                 1         1        1  \n",
       "1                0                1                 0         1        0  \n",
       "2                1                0                 1         1        0  \n",
       "3                1                0                 0         0        0  \n",
       "4                1                1                 1         1        1  "
      ]
     },
     "execution_count": 35,
     "metadata": {},
     "output_type": "execute_result"
    }
   ],
   "source": [
    "X.head()"
   ]
  },
  {
   "cell_type": "code",
   "execution_count": 29,
   "metadata": {},
   "outputs": [],
   "source": [
    "X_FS = X[['Polyuria', 'Polydipsia','Age', 'Gender','sudden weight loss','Irritability', 'delayed healing','Alopecia','Itching']]"
   ]
  },
  {
   "cell_type": "code",
   "execution_count": 30,
   "metadata": {},
   "outputs": [
    {
     "data": {
      "text/html": [
       "<div>\n",
       "<style scoped>\n",
       "    .dataframe tbody tr th:only-of-type {\n",
       "        vertical-align: middle;\n",
       "    }\n",
       "\n",
       "    .dataframe tbody tr th {\n",
       "        vertical-align: top;\n",
       "    }\n",
       "\n",
       "    .dataframe thead th {\n",
       "        text-align: right;\n",
       "    }\n",
       "</style>\n",
       "<table border=\"1\" class=\"dataframe\">\n",
       "  <thead>\n",
       "    <tr style=\"text-align: right;\">\n",
       "      <th></th>\n",
       "      <th>Polyuria</th>\n",
       "      <th>Polydipsia</th>\n",
       "      <th>Age</th>\n",
       "      <th>Gender</th>\n",
       "      <th>sudden weight loss</th>\n",
       "      <th>Irritability</th>\n",
       "      <th>delayed healing</th>\n",
       "      <th>Alopecia</th>\n",
       "      <th>Itching</th>\n",
       "    </tr>\n",
       "  </thead>\n",
       "  <tbody>\n",
       "    <tr>\n",
       "      <th>0</th>\n",
       "      <td>0</td>\n",
       "      <td>1</td>\n",
       "      <td>40</td>\n",
       "      <td>1</td>\n",
       "      <td>0</td>\n",
       "      <td>0</td>\n",
       "      <td>1</td>\n",
       "      <td>1</td>\n",
       "      <td>1</td>\n",
       "    </tr>\n",
       "    <tr>\n",
       "      <th>1</th>\n",
       "      <td>0</td>\n",
       "      <td>0</td>\n",
       "      <td>58</td>\n",
       "      <td>1</td>\n",
       "      <td>0</td>\n",
       "      <td>0</td>\n",
       "      <td>0</td>\n",
       "      <td>1</td>\n",
       "      <td>0</td>\n",
       "    </tr>\n",
       "    <tr>\n",
       "      <th>2</th>\n",
       "      <td>1</td>\n",
       "      <td>0</td>\n",
       "      <td>41</td>\n",
       "      <td>1</td>\n",
       "      <td>0</td>\n",
       "      <td>0</td>\n",
       "      <td>1</td>\n",
       "      <td>1</td>\n",
       "      <td>1</td>\n",
       "    </tr>\n",
       "    <tr>\n",
       "      <th>3</th>\n",
       "      <td>0</td>\n",
       "      <td>0</td>\n",
       "      <td>45</td>\n",
       "      <td>1</td>\n",
       "      <td>1</td>\n",
       "      <td>0</td>\n",
       "      <td>1</td>\n",
       "      <td>0</td>\n",
       "      <td>1</td>\n",
       "    </tr>\n",
       "    <tr>\n",
       "      <th>4</th>\n",
       "      <td>1</td>\n",
       "      <td>1</td>\n",
       "      <td>60</td>\n",
       "      <td>1</td>\n",
       "      <td>1</td>\n",
       "      <td>1</td>\n",
       "      <td>1</td>\n",
       "      <td>1</td>\n",
       "      <td>1</td>\n",
       "    </tr>\n",
       "    <tr>\n",
       "      <th>...</th>\n",
       "      <td>...</td>\n",
       "      <td>...</td>\n",
       "      <td>...</td>\n",
       "      <td>...</td>\n",
       "      <td>...</td>\n",
       "      <td>...</td>\n",
       "      <td>...</td>\n",
       "      <td>...</td>\n",
       "      <td>...</td>\n",
       "    </tr>\n",
       "    <tr>\n",
       "      <th>515</th>\n",
       "      <td>1</td>\n",
       "      <td>1</td>\n",
       "      <td>39</td>\n",
       "      <td>0</td>\n",
       "      <td>1</td>\n",
       "      <td>0</td>\n",
       "      <td>1</td>\n",
       "      <td>0</td>\n",
       "      <td>1</td>\n",
       "    </tr>\n",
       "    <tr>\n",
       "      <th>516</th>\n",
       "      <td>1</td>\n",
       "      <td>1</td>\n",
       "      <td>48</td>\n",
       "      <td>0</td>\n",
       "      <td>1</td>\n",
       "      <td>1</td>\n",
       "      <td>1</td>\n",
       "      <td>0</td>\n",
       "      <td>1</td>\n",
       "    </tr>\n",
       "    <tr>\n",
       "      <th>517</th>\n",
       "      <td>1</td>\n",
       "      <td>1</td>\n",
       "      <td>58</td>\n",
       "      <td>0</td>\n",
       "      <td>1</td>\n",
       "      <td>0</td>\n",
       "      <td>0</td>\n",
       "      <td>0</td>\n",
       "      <td>0</td>\n",
       "    </tr>\n",
       "    <tr>\n",
       "      <th>518</th>\n",
       "      <td>0</td>\n",
       "      <td>0</td>\n",
       "      <td>32</td>\n",
       "      <td>0</td>\n",
       "      <td>0</td>\n",
       "      <td>0</td>\n",
       "      <td>1</td>\n",
       "      <td>1</td>\n",
       "      <td>1</td>\n",
       "    </tr>\n",
       "    <tr>\n",
       "      <th>519</th>\n",
       "      <td>0</td>\n",
       "      <td>0</td>\n",
       "      <td>42</td>\n",
       "      <td>1</td>\n",
       "      <td>0</td>\n",
       "      <td>0</td>\n",
       "      <td>0</td>\n",
       "      <td>0</td>\n",
       "      <td>0</td>\n",
       "    </tr>\n",
       "  </tbody>\n",
       "</table>\n",
       "<p>520 rows × 9 columns</p>\n",
       "</div>"
      ],
      "text/plain": [
       "     Polyuria  Polydipsia  Age  Gender  sudden weight loss  Irritability  \\\n",
       "0           0           1   40       1                   0             0   \n",
       "1           0           0   58       1                   0             0   \n",
       "2           1           0   41       1                   0             0   \n",
       "3           0           0   45       1                   1             0   \n",
       "4           1           1   60       1                   1             1   \n",
       "..        ...         ...  ...     ...                 ...           ...   \n",
       "515         1           1   39       0                   1             0   \n",
       "516         1           1   48       0                   1             1   \n",
       "517         1           1   58       0                   1             0   \n",
       "518         0           0   32       0                   0             0   \n",
       "519         0           0   42       1                   0             0   \n",
       "\n",
       "     delayed healing  Alopecia  Itching  \n",
       "0                  1         1        1  \n",
       "1                  0         1        0  \n",
       "2                  1         1        1  \n",
       "3                  1         0        1  \n",
       "4                  1         1        1  \n",
       "..               ...       ...      ...  \n",
       "515                1         0        1  \n",
       "516                1         0        1  \n",
       "517                0         0        0  \n",
       "518                1         1        1  \n",
       "519                0         0        0  \n",
       "\n",
       "[520 rows x 9 columns]"
      ]
     },
     "execution_count": 30,
     "metadata": {},
     "output_type": "execute_result"
    }
   ],
   "source": [
    "X_FS"
   ]
  },
  {
   "cell_type": "code",
   "execution_count": 31,
   "metadata": {},
   "outputs": [],
   "source": [
    "X_train, X_test, y_train, y_test = train_test_split(X_FS, y, test_size = 0.2, stratify=y, random_state = 12345)"
   ]
  },
  {
   "cell_type": "markdown",
   "metadata": {},
   "source": [
    "## Data Normalization"
   ]
  },
  {
   "cell_type": "code",
   "execution_count": 32,
   "metadata": {},
   "outputs": [],
   "source": [
    "minmax = MinMaxScaler()\n",
    "X_train[['Age']] = minmax.fit_transform(X_train[['Age']])\n",
    "X_test[['Age']] = minmax.transform(X_test[['Age']])"
   ]
  },
  {
   "cell_type": "markdown",
   "metadata": {},
   "source": [
    "## Model Building"
   ]
  },
  {
   "cell_type": "code",
   "execution_count": 33,
   "metadata": {},
   "outputs": [
    {
     "data": {
      "text/plain": [
       "LogisticRegression(random_state=0)"
      ]
     },
     "execution_count": 33,
     "metadata": {},
     "output_type": "execute_result"
    }
   ],
   "source": [
    "# Logistic Regression\n",
    "logi = LogisticRegression(random_state = 0, penalty = 'l2')\n",
    "logi.fit(X_train, y_train)"
   ]
  },
  {
   "cell_type": "code",
   "execution_count": 34,
   "metadata": {},
   "outputs": [
    {
     "data": {
      "text/plain": [
       "0.906213704994193"
      ]
     },
     "execution_count": 34,
     "metadata": {},
     "output_type": "execute_result"
    }
   ],
   "source": [
    "# Cross Validation\n",
    "from sklearn import model_selection\n",
    "kfold = model_selection.KFold(n_splits=10)\n",
    "scoring = 'accuracy'\n",
    "\n",
    "acc_logi = cross_val_score(estimator = logi, X = X_train, y = y_train, cv = kfold,scoring=scoring)\n",
    "acc_logi.mean()"
   ]
  },
  {
   "cell_type": "code",
   "execution_count": 35,
   "metadata": {},
   "outputs": [
    {
     "data": {
      "text/html": [
       "<div>\n",
       "<style scoped>\n",
       "    .dataframe tbody tr th:only-of-type {\n",
       "        vertical-align: middle;\n",
       "    }\n",
       "\n",
       "    .dataframe tbody tr th {\n",
       "        vertical-align: top;\n",
       "    }\n",
       "\n",
       "    .dataframe thead th {\n",
       "        text-align: right;\n",
       "    }\n",
       "</style>\n",
       "<table border=\"1\" class=\"dataframe\">\n",
       "  <thead>\n",
       "    <tr style=\"text-align: right;\">\n",
       "      <th></th>\n",
       "      <th>Model</th>\n",
       "      <th>Accuracy</th>\n",
       "      <th>Cross Val Accuracy</th>\n",
       "      <th>Precision</th>\n",
       "      <th>Recall</th>\n",
       "      <th>F1 Score</th>\n",
       "      <th>ROC</th>\n",
       "    </tr>\n",
       "  </thead>\n",
       "  <tbody>\n",
       "    <tr>\n",
       "      <th>0</th>\n",
       "      <td>Logistic Regression</td>\n",
       "      <td>0.951923</td>\n",
       "      <td>0.906214</td>\n",
       "      <td>0.940299</td>\n",
       "      <td>0.984375</td>\n",
       "      <td>0.961832</td>\n",
       "      <td>0.942187</td>\n",
       "    </tr>\n",
       "  </tbody>\n",
       "</table>\n",
       "</div>"
      ],
      "text/plain": [
       "                 Model  Accuracy  Cross Val Accuracy  Precision    Recall  \\\n",
       "0  Logistic Regression  0.951923            0.906214   0.940299  0.984375   \n",
       "\n",
       "   F1 Score       ROC  \n",
       "0  0.961832  0.942187  "
      ]
     },
     "execution_count": 35,
     "metadata": {},
     "output_type": "execute_result"
    }
   ],
   "source": [
    "# Model Evaluation\n",
    "y_predict_logi = logi.predict(X_test)\n",
    "acc = accuracy_score(y_test, y_predict_logi)\n",
    "roc = roc_auc_score(y_test, y_predict_logi)\n",
    "prec = precision_score(y_test, y_predict_logi)\n",
    "rec = recall_score(y_test, y_predict_logi)\n",
    "f1 = f1_score(y_test, y_predict_logi)\n",
    "\n",
    "results = pd.DataFrame([['Logistic Regression',acc, acc_logi.mean(), prec, rec, f1,roc]], columns = ['Model', 'Accuracy','Cross Val Accuracy', 'Precision', 'Recall', 'F1 Score','ROC'])\n",
    "results\n"
   ]
  },
  {
   "cell_type": "code",
   "execution_count": 36,
   "metadata": {},
   "outputs": [
    {
     "data": {
      "text/plain": [
       "RandomForestClassifier()"
      ]
     },
     "execution_count": 36,
     "metadata": {},
     "output_type": "execute_result"
    }
   ],
   "source": [
    "# Random Forest\n",
    "rf = RandomForestClassifier(criterion='gini',n_estimators=100)\n",
    "rf.fit(X_train,y_train)"
   ]
  },
  {
   "cell_type": "code",
   "execution_count": 37,
   "metadata": {},
   "outputs": [
    {
     "data": {
      "text/plain": [
       "0.966376306620209"
      ]
     },
     "execution_count": 37,
     "metadata": {},
     "output_type": "execute_result"
    }
   ],
   "source": [
    "# Cross Validation\n",
    "kfold = model_selection.KFold(n_splits=10)\n",
    "scoring = 'accuracy'\n",
    "\n",
    "acc_rf = cross_val_score(estimator = rf, X = X_train, y = y_train, cv = kfold,scoring=scoring)\n",
    "acc_rf.mean()"
   ]
  },
  {
   "cell_type": "code",
   "execution_count": 38,
   "metadata": {},
   "outputs": [
    {
     "data": {
      "text/html": [
       "<div>\n",
       "<style scoped>\n",
       "    .dataframe tbody tr th:only-of-type {\n",
       "        vertical-align: middle;\n",
       "    }\n",
       "\n",
       "    .dataframe tbody tr th {\n",
       "        vertical-align: top;\n",
       "    }\n",
       "\n",
       "    .dataframe thead th {\n",
       "        text-align: right;\n",
       "    }\n",
       "</style>\n",
       "<table border=\"1\" class=\"dataframe\">\n",
       "  <thead>\n",
       "    <tr style=\"text-align: right;\">\n",
       "      <th></th>\n",
       "      <th>Model</th>\n",
       "      <th>Accuracy</th>\n",
       "      <th>Cross Val Accuracy</th>\n",
       "      <th>Precision</th>\n",
       "      <th>Recall</th>\n",
       "      <th>F1 Score</th>\n",
       "      <th>ROC</th>\n",
       "    </tr>\n",
       "  </thead>\n",
       "  <tbody>\n",
       "    <tr>\n",
       "      <th>0</th>\n",
       "      <td>Logistic Regression</td>\n",
       "      <td>0.951923</td>\n",
       "      <td>0.906214</td>\n",
       "      <td>0.940299</td>\n",
       "      <td>0.984375</td>\n",
       "      <td>0.961832</td>\n",
       "      <td>0.942187</td>\n",
       "    </tr>\n",
       "    <tr>\n",
       "      <th>1</th>\n",
       "      <td>Random Forest</td>\n",
       "      <td>0.990385</td>\n",
       "      <td>0.966376</td>\n",
       "      <td>0.984615</td>\n",
       "      <td>1.000000</td>\n",
       "      <td>0.992248</td>\n",
       "      <td>0.987500</td>\n",
       "    </tr>\n",
       "  </tbody>\n",
       "</table>\n",
       "</div>"
      ],
      "text/plain": [
       "                 Model  Accuracy  Cross Val Accuracy  Precision    Recall  \\\n",
       "0  Logistic Regression  0.951923            0.906214   0.940299  0.984375   \n",
       "1        Random Forest  0.990385            0.966376   0.984615  1.000000   \n",
       "\n",
       "   F1 Score       ROC  \n",
       "0  0.961832  0.942187  \n",
       "1  0.992248  0.987500  "
      ]
     },
     "execution_count": 38,
     "metadata": {},
     "output_type": "execute_result"
    }
   ],
   "source": [
    "# Model Evaluation\n",
    "y_predict_r = rf.predict(X_test)\n",
    "roc=roc_auc_score(y_test, y_predict_r)\n",
    "acc = accuracy_score(y_test, y_predict_r)\n",
    "prec = precision_score(y_test, y_predict_r)\n",
    "rec = recall_score(y_test, y_predict_r)\n",
    "f1 = f1_score(y_test, y_predict_r)\n",
    "\n",
    "model_results = pd.DataFrame([['Random Forest',acc, acc_rf.mean(),prec,rec, f1,roc]], columns = ['Model', 'Accuracy','Cross Val Accuracy', 'Precision', 'Recall', 'F1 Score','ROC'])\n",
    "\n",
    "results = results.append(model_results, ignore_index = True)\n",
    "results"
   ]
  },
  {
   "cell_type": "markdown",
   "metadata": {},
   "source": [
    "## Plotting ROC"
   ]
  },
  {
   "cell_type": "code",
   "execution_count": 39,
   "metadata": {},
   "outputs": [
    {
     "data": {
      "image/png": "[encoded data removed]",
      "text/plain": [
       "<Figure size 432x288 with 1 Axes>"
      ]
     },
     "metadata": {
      "needs_background": "light"
     },
     "output_type": "display_data"
    }
   ],
   "source": [
    "from sklearn import metrics\n",
    "import matplotlib.pyplot as plt\n",
    "\n",
    "plt.figure()\n",
    "\n",
    "# Add the models to the list that you want to view on the ROC plot\n",
    "models = [\n",
    "{\n",
    "    'label': 'Logistic Regression',\n",
    "    'model': LogisticRegression(random_state = 0, penalty = 'l2'),\n",
    "},\n",
    "\n",
    "    {\n",
    "    'label': 'Random Forest',\n",
    "    'model': RandomForestClassifier(n_estimators = 100,criterion='gini', random_state = 47),\n",
    "},\n",
    "    \n",
    "]\n",
    "\n",
    "# Below for loop iterates through your models list\n",
    "for m in models:\n",
    "    model = m['model']\n",
    "    model.fit(X_train, y_train)\n",
    "    y_pred=model.predict(X_test)\n",
    "    \n",
    "# Compute False postive rate, and True positive rate\n",
    "    fpr, tpr, thresholds = metrics.roc_curve(y_test, model.predict_proba(X_test)[:,1])\n",
    "    \n",
    "# Calculate Area under the curve to display on the plot\n",
    "    auc = metrics.roc_auc_score(y_test,model.predict(X_test))\n",
    "    \n",
    "# Now, plot the computed values\n",
    "    plt.plot(fpr, tpr, label='%s ROC (area = %0.2f)' % (m['label'], auc))\n",
    "    \n",
    "# Custom settings for the plot \n",
    "plt.plot([0, 1], [0, 1],'r--')\n",
    "plt.xlim([0.0, 1.0])\n",
    "plt.ylim([0.0, 1.05])\n",
    "plt.xlabel('1-Specificity(False Positive Rate)')\n",
    "plt.ylabel('Sensitivity(True Positive Rate)')\n",
    "plt.title('Receiver Operating Characteristic')\n",
    "plt.legend(loc=\"lower right\")\n",
    "plt.show()"
   ]
  },
  {
   "cell_type": "code",
   "execution_count": 40,
   "metadata": {},
   "outputs": [],
   "source": [
    "import pickle\n",
    "pickle.dump(rf, open('diabetes-model.pkl', 'wb'))"
   ]
  },
  {
   "cell_type": "code",
   "execution_count": 42,
   "metadata": {},
   "outputs": [
    {
     "name": "stdout",
     "output_type": "stream",
     "text": [
      "[1]\n"
     ]
    }
   ],
   "source": [
    "model = pickle.load(open('diabetes-model.pkl', 'rb'))\n",
    "print(model.predict([[1, 39, 0, 1, 1, 0, 1, 0, 1]]))"
   ]
  },
  {
   "cell_type": "code",
   "execution_count": null,
   "metadata": {},
   "outputs": [],
   "source": []
  }
 ],
 "metadata": {
  "kernelspec": {
   "display_name": "Python 3",
   "language": "python",
   "name": "python3"
  },
  "language_info": {
   "codemirror_mode": {
    "name": "ipython",
    "version": 3
   },
   "file_extension": ".py",
   "mimetype": "text/x-python",
   "name": "python",
   "nbconvert_exporter": "python",
   "pygments_lexer": "ipython3",
   "version": "3.8.3"
  }
 },
 "nbformat": 4,
 "nbformat_minor": 4
}
